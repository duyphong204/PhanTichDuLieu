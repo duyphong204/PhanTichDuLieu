











import numpy as np

# Tạo một dãy số a có N = 10 phần tử, với các giá trị từ 0 đến 9
a = np.arange(10)

print("1. Tạo một dãy số a có N phần tử (N = 10)")
print("Dãy số a: ", a)





import numpy as np

# Giả sử dãy số 'a' đã được tạo ra từ bài trước
a = np.arange(10)

print("2. Các thao tác tính toán đơn giản với dãy số a")

# a. Bình phương các phần tử trong dãy số
a2 = a**2

# b. Tìm số lượng các phần tử của dãy số
na = len(a)

# c. In ra giá trị lớn nhất, nhỏ nhất và giá trị trung bình
v_max = np.max(a)
v_min = np.min(a)
v_avg = np.mean(a)

# d. Tính phương sai và độ lệch chuẩn
# Sử dụng công thức phương sai mẫu: chia cho N-1
# np.var(a) tính phương sai tổng thể (chia cho N)
# np.var(a, ddof=1) sẽ tính phương sai mẫu (chia cho N-1)
v_sigma2 = np.var(a, ddof=1)
v_var = np.sqrt(v_sigma2) # Độ lệch chuẩn là căn bậc hai của phương sai
# Hoặc sử dụng np.std(a, ddof=1) để tính trực tiếp
# v_var = np.std(a, ddof=1)

print("a. Bình phương a: ", a2)
print("\nb. Độ dài a: ", na)
print(f'\nc. Giá trị lớn nhất: [{v_max}], giá trị nhỏ nhất: [{v_min}], giá trị trung bình [{v_avg}]')
print(f'\nd. Phương sai: [{v_sigma2: .2f}] và độ lệch chuẩn: [{v_var: .2f}]')





import numpy as np
# Giả sử dãy số 'a' đã được tạo ra từ bài trước
a = np.arange(10)

print("3. Xử lý khác trên dãy số")

# a. Tạo dãy số x có 10 phần tử từ 1 đến 10
x = np.arange(1, 11)

print(f'a. Day so x: {x}')


# a và x phải được khởi tạo trước đó
# Ví dụ:
# a = np.arange(10)
# x = np.arange(1, 11)

# Khởi tạo a_la_chan
a_la_chan = a % 2 == 0

# Sau đó, sử dụng nó
a_chan = a[a_la_chan]
n_a_chan = len(a_chan)

# Tương tự cho x
x_la_chan = x % 2 == 0
x_chan = x[x_la_chan]
n_x_chan = len(x_chan)

print("b. Cac phan tu chan trong day a, b: ")
print(f"+ Day a: {a}")
print(f"  - Loc chan: {a_la_chan}")
print(f"  - Day chua phan tu chan trong a: {a_chan}, so luong {n_a_chan} phan tu.")
print(f"+ Day x: {x}")
print(f"  - Loc chan: {x_la_chan}")
print(f"  - Day chua phan tu chan trong a: {x_chan}, so luong {n_x_chan} phan tu.")


v_le = np.arange(1, 10, 2)
a_le = a[v_le]
x_le = x[v_le]
hieu_le = a_le - x_le
kc_le = np.sqrt(np.sum((a_le - x_le)**2))

print( "c.Tính hiệu các phần tử ở vị trí lẻ của mảng a và x: ")
print(f"+ Vi tri le trong a va x: {v_le}")
print(f"+ Day so a: {a} va cac so o vi tri le: {a_le}")
print(f"+ Day so x: {x} va cac so o vi tri le: {x_le}")
print(f"+ Hieu cua a va x o vi tri le: {hieu_le}")
print(f"+ Khoang cach cac phan tu cua a va x o vi tri le: {kc_le: .2f}")


print("d. Tìm khoảng cách nhỏ nhất giữa tập a và x. Ví dụ: min({1, 3, 5}, {2, 10, 8}} = 1")
"""
Gợi ý: Áp dụng toán tử broatcasting
[[1],                    [[1, 1, 1],        [[2, 10, 8],    =   [[-1, -9, -7],
 [3],   - [2, 10, 8] =    [3, 3, 3],   -     [2, 10, 8],         [ 1, -7, -5],  --> np.min(np.abs(...)) = 1
 [5]]                     [5, 5, 5]]         [2, 10, 8]]         [ 3, -5, -3]]
"""
a_reshaped = a[:, np.newaxis]
diff_matrix = a_reshaped - x
v_min = np.min(np.abs(diff_matrix))

print("d. Tìm khoảng cách nhỏ nhất giữa tập a và x. Ví dụ: min({1, 3, 5}, {2, 10, 8}} = 1")
print(f"+ Day a: {a}")
print(f"+ Day x: {x}")
print(f"+ Khoang cach nho nhat: {v_min}")





import numpy as np
import matplotlib.pyplot as plt

print("4. Sinh ngẫu nhiên dãy số")

# a. Sinh ngẫu nhiên dãy số có 100 phần tử theo phân bố đều với giá trị trong đoạn [1, 10]
# Sử dụng np.random.randint để sinh số nguyên ngẫu nhiên
uniform_data = np.random.randint(1, 11, size=100)
# Sử dụng np.unique để đếm tần số xuất hiện
value, cnt = np.unique(uniform_data, return_counts=True)

print("a. Sinh ngẫu nhiên theo phân bố đều")
print(f"+ Gia tri: {value}")
print(f"+ So lan xuat hien: {cnt}")
print("+ Do thi ham so xuat hien")
plt.figure(figsize=(6, 6))
plt.bar(value, cnt)
plt.xlim(0, 11)
plt.ylim(0, np.max(cnt) + 10)
plt.title("Phân bố đều")
plt.xlabel("Giá trị")
plt.ylabel("Tần số")
plt.savefig("4a.png")
plt.show()


mu = 1
sigma = np.sqrt(1.0)
# Khoảng giá trị của x
x_min = mu - 5 * sigma
x_max = mu + 5 * sigma
# Sinh 1000 giá trị x ngẫu nhiên trong khoảng [x_min, x_max)
x = (x_max - x_min) * np.random.rand(1000) + x_min
# Tính giá trị y theo công thức hàm mật độ xác suất chuẩn
y = (1 / (sigma * np.sqrt(2 * np.pi))) * np.exp(-((x - mu)**2) / (2 * sigma**2))

print("b. Sinh cặp (x, y) với y làm hàm phân phối chuẩn")
print(f"+ x: {x_min} <= min [{np.min(x): .2f}] <= max [{np.max(x): .2f}] <= {x_max}")
print(f"+ Ve ham so y(x)")
plt.figure(figsize=(6,6))      # kich thuoc ban ve
plt.scatter(x, y)              # ve cac diem (xi, yi)
plt.savefig("4b.png")          #  luu do thi
plt.show()                     #  hien thi do thi


n = 100000
# Sinh số ngẫu nhiên theo phân bố chuẩn N(mu, sigma^2)
x = mu + np.random.randn(n) * sigma
# Thống kê tần số xuất hiện bằng np.histogram
# density=True để nhận mật độ xác suất, bins=300 để có độ phân giải cao
cnt, bins = np.histogram(x, bins=300, density=True)
# Lấy giá trị trung tâm của các bins
val = (bins[1:] + bins[:-1]) / 2

print( "c. Sinh day so theo phan phoi chuan")
print(f"+ x: len = {len(x)}, min [{np.min(x)}], max [{np.max(x)}]")
print(f"+ Mat so xac suat cua day so x")
plt.figure(figsize=(6,6))      # kich thuoc ban ve
plt.xlim(np.min(val), np.max(val))
plt.scatter(val, cnt)
plt.show()








import numpy as np

# Tạo ma trận a có M = 6 dòng, N = 4 cột
# với các số nguyên ngẫu nhiên từ 100 đến 199 (không bao gồm 200)
a = np.random.randint(100, 200, (6, 4))

print("Ma trận a: \n", a)





import numpy as np

# Giả sử ma trận a đã được tạo từ bài trước
a = np.random.randint(100, 200, (6, 4))

print("Ma trận a: \n", a)

# a. In ra ma trận chuyển vị
a_t = a.T

# b. In ra phần tử ở vị trí dòng 2 cột 3 (lưu ý: chỉ mục bắt đầu từ 0)
v_23 = a[1, 2]

# c. Trích xuất dòng đầu, dòng cuối, dòng 2
d_0 = a[0]
d_last = a[-1]
d_2 = a[1]

# d. Trích xuất cột kế cuối, cột đầu
c_l1 = a[:, -2]
c_0 = a[:, 0]

# e. Đảo các giá trị trên từng cột
dao_cot = a[::-1]

# f. Tính tổng các dòng, trung bình các cột
tong_dong = np.sum(a, axis=1) # axis=1: tính tổng trên các dòng (theo chiều ngang)
tb_cot = np.mean(a, axis=0) # axis=0: tính trung bình trên các cột (theo chiều dọc)

print(f"\na. In ra ma trận chuyển vị: \n{a_t}")
print(f"\nb. In ra phần tử ở vị trí dòng 2 cột 3: {v_23}")
print(f"\nc. Trích xuất các dòng: ")
print(f"   + Dòng đầu : {d_0}")
print(f"   + Dòng cuối: {d_last}")
print(f"   + Dòng hai : {d_2}")
print(f"\nd. Trích xuất các cột: ")
print(f"   + Cột kế cuối: {c_l1}")
print(f"   + Cột đầu: {c_0}")
print(f"\ne. Đảo các giá trị trên từng cột: \n {dao_cot}")
print(f"\nf. Phép tính theo trục:")
print(f"   + Tổng dòng: {tong_dong}")
print(f"   + Trung bình cột: {tb_cot}")





import numpy as np

# a. Tạo hai ma trận A và B có 4 dòng x 3 cột và X có 3 dòng x 4 cột
A = np.random.randint(1, 10, (4, 3))
B = np.random.randint(1, 10, (4, 3))
X = np.random.randint(1, 10, (3, 4))

print("a. Tạo hai ma trận A và B có 4 dòng x 3 cột và X có 3 dòng x 4 cột")
print(f"+ Ma tran A: \n{A}")
print(f"+ Ma tran B: \n{B}")
print(f"+ Ma tran X: \n{X}")

# b. Tính tổng, hiệu, tích của từng phần tử trên hai ma trận A và B
# NumPy cho phép thực hiện các phép toán này một cách trực tiếp
AB_add = A + B
AB_sub = A - B
AB_mul = A * B # Phép nhân từng phần tử (element-wise multiplication)

print("\nb. Tính tổng, hiệu, tích của từng phần tử trên hai ma trận A và B")
print(f"A + B = \n{AB_add}")
print(f"A - B = \n{AB_sub}")
print(f"A . B = \n{AB_mul}")

# c. Tính phép nhân ma trận Y = A x X
# Dùng toán tử @ hoặc hàm np.dot()
Y = A @ X
# Hoặc: Y = np.dot(A, X)

print("\nc. Tính phép nhân ma trận Y = A x X")
print(f"Y = A x X --> shape A ({A.shape}) x shape X ({X.shape}) = shape Y ({Y.shape}) \n{Y}")





import numpy as np

# Tạo ma trận hệ số A và vector kết quả y
A = np.array([[4, 3, -5],
              [-2, -4, 5],
              [8, 8, 0]])

y = np.array([2, 5, -3])

# Sử dụng np.linalg.solve để tìm nghiệm x
x = np.linalg.solve(A, y)

# Kiểm tra lại nghiệm bằng cách nhân ma trận A với nghiệm x vừa tìm được
yy = np.dot(A, x)

# Tính sai số (Norm L2) giữa vector kết quả gốc (y) và vector kết quả tính toán (yy)
diff = np.linalg.norm(yy - y)

print("Ma trận A: \n", A)
print(f"\nVector y: {y}")
print(f"Nghiệm x: {x}")
print(f"Kiểm tra: y_new = A @ x = {yy} ==> ||y_new - y||_2 = {diff: .2f}")








import matplotlib.pyplot as plt # khai báo thư viện vẽ pyplot
import math

circle = plt.Circle((0, 0), 1, color='g') # tạo đối tượng vòng tròn

fig, ax = plt.subplots(figsize=(6, 6)) # lấy figure và vùng vẽ

plt.plot(0, 0, 'o', color=(0.9, 0.9, 1.0), alpha=0.8) # vẽ điểm tại tâm (0,0)
ax.add_patch(circle) # thêm vòng tròn vào vùng vẽ

x = 0.75; y = math.sqrt(1 - (x ** 2)) # (x = 0.75, y = căn bậc 2 của 1 - x^2)
plt.arrow(0, 0, x, y)

plt.xlim(-1, 1) # giới hạn trục x
plt.ylim(-1, 1) # giới hạn trục y

plt.savefig('pi.png') # lưu đồ thị xuống tập tin
plt.show()            # hiển thị đồ thị


import numpy as np

def calc_pi_monte_carlo(n):
    """
    Estimates the value of pi using the Monte Carlo method.

    Args:
        n (int): The number of random points to generate.

    Returns:
        float: The estimated value of pi.
    """
    # Generate n random points (x, y) within a unit square.
    # The unit square has corners at (0,0), (1,0), (0,1), and (1,1).
    random_points = np.random.rand(n, 2)
    
    # Extract the x and y coordinates.
    x = random_points[:, 0]
    y = random_points[:, 1]
    
    # Count the number of points that fall inside the unit circle.
    # A point (x, y) is inside the circle if x^2 + y^2 < 1.
    points_in_circle = np.sum(x**2 + y**2 < 1)
    
    # Estimate pi based on the ratio of areas.
    # pi / 4 = points_in_circle / n
    pi = 4 * points_in_circle / n
    
    return pi
# calc_pi_monte_carlo


import math

print("epsilon(n=100): ", calc_pi_monte_carlo(n = 100) - math.pi)
print("epsilon(n=100): ", calc_pi_monte_carlo(n = 100) - math.pi)
print("epsilon(n=10000): ", calc_pi_monte_carlo(n = 10000) - math.pi)
print("epsilon(n=10000): ", calc_pi_monte_carlo(n = 10000) - math.pi)
print("epsilon(n=1000000): ", calc_pi_monte_carlo(n = 1000000) - math.pi)
print("epsilon(n=1000000): ", calc_pi_monte_carlo(n = 1000000) - math.pi)



