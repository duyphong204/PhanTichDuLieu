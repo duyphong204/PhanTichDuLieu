








score = 80
if score >=60 :
    print("Pass")





# Gán biến x với giá trị số nguyên 2
x = 2
# Gán biến price với giá trị số thực (float) 2.5
price = 2.5
# Gán biến word với chuỗi "Hello" (có thể dùng nháy đơn, nháy kép, hoặc 3 nháy đều được)
word = 'Hello'
word = "Hello"
word = '''Hello'''

# Gán biến y bằng x + 1 (nghĩa là 2 + 1 = 3)
x = 2
y = x + 1





from platform import python_version
print("Python Version:", python_version())





# Kiểu dữ liệu chuỗi (string)
x = "Hello World"   # str  

# Kiểu dữ liệu số nguyên (integer)
x = 2               # int  

# Kiểu dữ liệu số thực (float)
x = 2.5             # float  

# Kiểu dữ liệu số phức (complex number) 
# Trong Python, số phức được viết với 'j' để biểu diễn phần ảo
x = 7j              # complex  



x = ["apple", "banana", "cherry"] #list
x = ("apple", "banana", "cherry") #tuple
x = range(6) #range
x = {"name" : "Tom", "age" : 20} #dict
x = {"apple", "banana", "cherry"} #set
x = frozenset({"apple", "banana", "cherry"})


x = True #bool
x = b"Hello" #bytes
x = bytearray(5) #bytearray
x = memoryview(bytes(5)) #memoryview
x = None #NoneType





x = str(3) # x will be '3'
y = int(3) # y will be 3
z = float(3) # z will be 3.0
print(x, type(x))
print(y, type(y))
print(z, type(z))





x = 2 # int
y = 3.4 # float
z = 7j #complex
print(x, type(x))
print(y, type(y))
print(z, type(z))





# Phép cộng
print(7 + 2)   # 9 → Addition (cộng)

# Phép trừ
print(7 - 2)   # 5 → Subtraction (trừ)

# Phép nhân
print(7 * 2)   # 14 → Multiplication (nhân)

# Phép chia (kết quả float, luôn có số thập phân)
print(7 / 2)   # 3.5 → Division (chia)

# Phép chia lấy phần nguyên (floor division)
print(7 // 2)  # 3 → Quotient (thương nguyên, bỏ phần dư)

# Phép chia lấy phần dư (modulus)
print(7 % 2)   # 1 → Remainder (số dư)

# Lũy thừa (exponentiation)
print(7 ** 2)  # 49 → 7 mũ 2






print('7 + 2 =', 7 + 2)
print('7 - 2 =', 7 - 2)
print('7 * 2 =', 7 * 2)
print('7 / 2 =', 7 / 2)
print('7 // 2 =', 7 // 2)
print('7 % 2 =', 7 % 2)
print('7 ** 2 =', 7 ** 2)





# Python Booleans: True or False
print(3 > 2)
print(3 == 2)
print(3 < 2)





# BMI Calculator
height_cm = 170   # chiều cao (cm)
weight_kg = 60    # cân nặng (kg)

height_m = height_cm / 100            # đổi sang mét
BMI = weight_kg / (height_m ** 2)     # công thức BMI

print("Your BMI is:", round(BMI, 1))  # in kết quả, làm tròn 1 số thập phân





# Future Value sau 7 năm (lãi 10%)
fv = 100 * 1.1 ** 7    # 100 đô * (1.1 ^ 7)
print('fv =', round(fv, 2))  # làm tròn 2 số thập phân





# Future Value (FV) = PV * (1 + r)^n
pv = 100    # giá trị hiện tại
r = 0.1     # lãi suất (10%)
n = 7       # số năm

fv = pv * (1 + r) ** n
print(round(fv, 2))   # 194.87


# Future Value
amount = 100
interest = 10 #10% = 0.01 * 10
years = 7

future_value = amount * ((1 + (0.01 * interest)) ** years)
print(round(future_value, 2))





x = ["apple", "banana", "cherry"]   # list: có thứ tự, thay đổi được
x = ("apple", "banana", "cherry")   # tuple: có thứ tự, không đổi được
x = {"name": "Tom", "age": 20}      # dict: key-value
x = {"apple", "banana", "cherry"}   # set: không trùng, không có thứ tự





x = [60, 70, 80, 90]
print(len(x))
print(x[0])
print(x[1])
print(x[-1])





x = (10, 20, 30, 40, 50)
print(x[0])
print(x[1])
print(x[2])
print(x[-1])





animals = {'cat', 'dog'}
print('cat' in animals)
print('fish' in animals)
animals.add('fish')
print('fish' in animals)
print(len(animals))
animals.add('cat')
print(len(animals))
animals.remove('cat')
print(len(animals))





k = { 'EN':'English','FR':'French' }
print(k['EN'])





fruits = ["apple", "banana", "cherry"] #lists []
colors = ("red", "green", "blue") #tuples ()
animals = {'cat', 'dog'} #sets {}
person = {"name" : "Tom", "age" : 20} #dictionaries {}





# Python Lists
expenses = [72.50, 80.75, 50.00, 90.25]
total_expenses = sum(expenses)
print("Total expenses:", total_expenses)


# Python Tuples
accounts = (("Cash", 1001), ("Accounts Receivable", 1002),
("Inventory", 1003))
for account in accounts:
   print("Account name:", account[0], "Account number:", account[1])


# Python Sets
account_numbers = {1001, 1002, 1003}
new_account_number = 1004
if new_account_number not in account_numbers:
  print("Account number", new_account_number, "is not in use.")


# Python Dictionaries
accounts = {"1001": {"name": "Cash", "balance": 500.00, "type": "Asset"},
"1002": {"name": "Accounts Receivable", "balance": 1000.00, "type": "Asset"},
"2001": {"name": "Accounts Payable", "balance": 750.00, "type": "Liability"}}
for account_number, account_info in accounts.items():
    print("Account number:", account_number)
    print("Account name:", account_info["name"])
    print("Account balance:", account_info["balance"])
    print("Account type:", account_info["type"])








# Python if
score = 80
if score >=60 :
 print("Pass")





# Python if else
score = 80
if score >=60 :
 print("Pass")
else:
 print("Fail")











# Python if elif else
score = 90
grade = ""
if score >=90:
 grade = "A"
elif score >= 80:
 grade = "B"
elif score >= 70:
 grade = "C"
elif score >= 60:
 grade = "D"
else:
 grade = "E"
print(grade)





for i in range(1,6):
 print(i)


for i in range(1, 10):
    for j in range(1, 10):
        print(f"{i}*{j}={i*j}", end="\t")
    print()  # xuống dòng sau mỗi i





# while loops
age = 10
while age < 20:
    print(age)
    age = age + 1








# Python Function def
# indentation for blocks. four spaces
def getfv(pv, r, n):
    fv = pv * ((1 + (r)) ** n)
    return fv
fv = getfv(100, 0.1, 7)
print(round(fv, 2))


# How much is your $100 worth after 7 years?
fv = 100 * 1.1 ** 7
print('fv = ', round(fv, 2))
# output = 194.87





# Future Value
pv = 100
r = 0.1
n = 7
fv = pv * ((1 + (r)) ** n)
print(round(fv, 2))


# Future Value
amount = 100
interest = 10 #10% = 0.01 * 10
years = 7

future_value = amount * ((1 + (0.01 * interest)) ** years)
print(round(future_value, 2))





# Python Function def
# indentation for blocks. four spaces
def getfv(pv, r, n):
    fv = pv * ((1 + (r)) ** n)
    return fv
fv = getfv(100, 0.1, 7)
print(round(fv, 2))








# Python class
class MyClass:
 x = 5

c1 = MyClass()
print(c1.x)


class Person:
 def __init__(self, name, age):
    self.name = name
    self.age = age
p1 = Person("Alan", 20)
print(p1.name)
print(p1.age)


class Person:

 def __init__(self, name, age):
    self.name = name
    self.age = age

 def myfunc(self):

   print("Hello my name is " + self.name)

p1 = Person("Alan", 20)
p1.myfunc()


class Person:

    def __init__(self, name, age):
        self.name = name
        self.age = age
    
    def myfunc(self):
    
     print("Hello my name is " + self.name)

p1 = Person("Alan", 20)
p1.myfunc()
print(p1.name)
print(p1.age)





class Vehicle:
    name = ""
    kind = "car"
    color = ""
    value = 100.00

    def description(self):
        desc_str = "%s is a %s %s worth $%.2f." % (
            self.name, self.color, self.kind, self.value
        )
        return desc_str



car1 = Vehicle()
car1.name = "Fer"
car1.color = "red"
car1.kind = "convertible"
car1.value = 60000.00

car2 = Vehicle()
car2.name = "Jump"
car2.color = "blue"
car2.kind = "van"
car2.value = 10000.00

print(car1.description())
print(car1.name)
print(car2.description())
print(car2.name)








# Python File Input / Output

# Ghi file
with open('myfile.txt', 'w') as file:
    file.write('Hello World\nThis is Python File Input Output')

# Đọc file
with open('myfile.txt', 'r') as file:
    text = file.read()
    print(text)



filename = 'mymodule.py'

# Ghi file
with open(filename, 'w') as file:
    text = '''def greeting(name):
    print("Hello, " + name)
'''
    file.write(text)

# Đọc file
with open(filename, 'r') as file:
    text = file.read()

print(filename)
print(text)






#Python main() function
def main():
 print("Hello World!")
if __name__ == "__main__":
 main()











# Python File Input / Output
with open('myfile.txt', 'w') as file:
 file.write('Hello World')
with open('myfile.txt', 'r') as file:
 text = file.read()

print(text)


# Python File Input / Output
with open('myfile.txt', 'w') as file:
  file.write('Hello World\nPython File IO')
with open('myfile.txt', 'r') as file:
    text = file.read()

print(text)


# Python File Input / Output
with open('myfile.txt', 'a+') as file:
 file.write('\n' + 'New line')
with open('myfile.txt', 'r') as file:
 text = file.read()
print(text)





# !ls list files
!ls





import os

cwd = os.getcwd()
print(cwd)





os.listdir(cwd)





#Python try except
try:
 print(x)
except:
 print("Exception Error")





#Python try except finally
try:
 print("Hello")
except:
 print("Exception Error")
finally:
 print("Finally process")





#Python try except else
try:
 print("Hello")
except:
 print("Exception Error")
else:
 print("No exception")





try:
 print("Hello") 
except:
 print("Exception Error")
else:
 print("No exception")
finally:
 print("Finally process")


try:
    price = float(input("Enter the price of the stock (e.g. 10):"))
    shares = int(input("Enter the number of shares (e.g. 2):"))
    total = price * shares
except Exception as e:
 print("Exception error:", str(e))
else:
 print("The total value of the shares is:", total)
finally:
 print("Thank you.")


try:
 file = open("myfile.txt")
 file.write("Python write file")
 print("file saved")
except:
 print("Exception file Error")


try:
 file = open("myfile.txt")
 file.write("Python write file")
 print("file saved")
except:
 print("Exception file Error")
finally:
 file.close()
print("Finally process")


try:
 file = open("myfile.txt", 'w')
 file.write("Python write file")
 print("file saved")
except:
 print("Exception file Error")
finally:
 file.close()
 print("Finally process")





## NumPy is the fundamental package for scientific computing with Python.





fruits = ["apple", "banana", "cherry"]   # List  -> có thứ tự, thay đổi được, dùng []
colors = ("red", "green", "blue")        # Tuple -> có thứ tự, KHÔNG thay đổi, dùng ()
animals = {"cat", "dog"}                 # Set   -> không thứ tự, không trùng lặp, dùng {}
person = {"name": "Tom", "age": 20}      # Dict  -> cặp key:value, dùng {}





x = [60, 70, 80, 90]
print(len(x))
print(x[0])
print(x[1])
print(x[-1])





import numpy as np
a = np.array([1, 2, 3])
b = np.array([4, 5, 6])
c = a * b
c


import numpy as np
a = np.arange(15).reshape(3, 5)
a.shape
a.ndim
a.dtype.name


import numpy as np
a = np.array([[0, 1, 2, 3],
[10, 11, 12, 13],
[20, 21, 22, 23]])
a





import pandas as pd
df = pd.DataFrame({"a": [4, 5, 6],
                   "b": [7, 8, 9],
                   "c": [10, 11, 12]},
                 index = [1, 2, 3])


type(df)


import numpy as np
import pandas as pd
import matplotlib.pyplot as plt
print('pandas imported')
s = pd.Series([1,3,5,np.nan,6,8])
s


df = pd.DataFrame(np.random.randn(3,5),
index=['student1','student2','student3']
, columns=list('ABCDE'))
df


df2 = pd.DataFrame({ 'A' : 1.,
'B' : pd.Timestamp('20181001'),
'C' : pd.Series(2.5,index=list(range(4)),dtype='float32'),
'D' : np.array([3] * 4,dtype='int32'),
'E' : pd.Categorical(["test","train","test","train"]),
'F' : 'foo' })
df2


df2.dtypes





import pandas as pd

# Create a DataFrame to store transactions
columns = ['Date', 'Description', 'Amount']
ledger = pd.DataFrame(columns=columns)

# Function to add a transaction
def add_transaction(date, description, amount):
    global ledger
    new_transaction = pd.DataFrame([[date, description, amount]], columns=columns)
    ledger = pd.concat([ledger, new_transaction], ignore_index=True)

# Function to view the ledger
def view_ledger():
    print(ledger)

# Function to get the current balance
def get_balance():
    return ledger['Amount'].sum()

# Adding sample transactions
add_transaction('2023-11-01', 'Income', 1000)
add_transaction('2023-11-02', 'Groceries', -200)
add_transaction('2023-11-03', 'Utilities', -100)

# Viewing the ledger
view_ledger()

# Checking the current balance
print("Current Balance:", get_balance())






import seaborn as sns
sns.set(style="ticks", color_codes=True)
iris = sns.load_dataset("iris")
g = sns.pairplot(iris, hue="species")


import numpy as np
import pandas as pd
%matplotlib inline
import matplotlib.pyplot as plt
import seaborn as sns
from pandas.plotting import scatter_matrix

# Tạo DataFrame ngẫu nhiên
df = pd.DataFrame(np.random.randn(100, 4), columns=list("ABCD"))

# Vẽ scatter matrix
scatter_matrix(df, figsize=(8, 8), diagonal="kde")
plt.show()



url = "https://archive.ics.uci.edu/ml/machine-learning-databases/iris/iris.data"
names = ['sepal-length', 'sepal-width', 'petal-length', 'petal-width', 'class']
df = pd.read_csv(url, names=names)
print(df.head(10))


df.tail(10)


df.describe()


print(df.info())
print(df.shape
)


df.groupby('class').size()


plt.rcParams["figure.figsize"] = (10,8)
df.plot(kind='box', subplots=True, layout=(2,2), sharex=False, sharey=False)
plt.show()


df.hist()
plt.show()


scatter_matrix(df)

plt.show()


sns.pairplot(df, hue="class", height=2)









x = 10       # số nguyên (int)
y = 3.14     # số thực (float)
ten = "Phong" # chuỗi (string)
is_ok = True # logic (bool)






# số
a = 5       # int
b = 2.5     # float
c = 2 + 3j  # complex


# Chuỗi (String)
s = "Hello Python"
print(s[0])   # H (truy cập ký tự đầu)
print(len(s)) # độ dài chuỗi


# Boolean (True/False)
flag = True
print(flag and False)  # False





# Xuất dữ liệu

print(42)  

a = 3.564
print("a = ", a)

print("a = \n", a)

print("a", "b")

print("a", "b", sep="")

print(192, 168, 178, 42, sep=".")

print("a", "b", sep=":-)")



# nhập 
name = input("What's your name? ")
print("Nice to meet you " + name + "!")
age = input("Your age? ")
print("You are already " + age + " years old, " + name
+ "!")





# Giải phương trình bậc 2: ax^2 + bx + c = 0

a = float(input("A = "))
b = float(input("B = "))
c = float(input("C = "))

delta = b*b - 4*a*c

if delta == 0:
    print("Nghiệm kép: x =", -b/(2*a))
elif delta < 0:
    print("Phương trình vô nghiệm")
else:
    print("X1 =", (-b + delta**0.5)/(2*a))
    print("X2 =", (-b - delta**0.5)/(2*a))









name = input("What's your name? ")
print("Nice to meet you " + name + "!")

age = int(input("Your age? "))
print("You are already", age, "years old,", name, "!")

if age >= 18:
    print("Đủ tuổi đi bầu cử")
    if age > 100:
        print("Có vẻ sai sai!")
else:
    print("Nhỏ quá")






# In các số từ 0 đến 4
for i in range(5):
    print("i =", i)

# Lặp qua danh sách
fruits = ["apple", "banana", "cherry"]
for fruit in fruits:
    print("Fruit:", fruit)






# Định nghĩa hàm có tham số mặc định
def tich(a=1, b=1):
    return a * b

# Gọi hàm
print(tich(10, 20))       # 200 (10 * 20)
print(tich(10))           # 10  (10 * 1, vì b mặc định = 1)
print(tich(a=5))          # 5   (5 * 1, vì b mặc định = 1)
print(tich(b=6, a=5))     # 30  (5 * 6)






# Chuỗi là dãy ký tự, viết trong "" hoặc ''
s = "Hello Python"

# Truy cập phần tử (index bắt đầu từ 0)
print(s[0])      # H
print(s[-1])     # n (kí tự cuối)

# Cắt chuỗi (slicing)
print(s[0:5])    # Hello
print(s[6:])     # Python

# Một số phương thức
print(s.upper())  # HELLO PYTHON
print(s.lower())  # hello python
print(s.replace("Python", "World"))  # Hello World
print(len(s))     # 12 (độ dài chuỗi)



# danh sách 
# List là tập hợp nhiều phần tử, có thể khác kiểu
fruits = ["apple", "banana", "cherry"]

# Truy cập phần tử
print(fruits[0])     # apple
print(fruits[-1])    # cherry

# Thay đổi phần tử
fruits[1] = "orange"
print(fruits)        # ['apple', 'orange', 'cherry']

# Thêm phần tử
fruits.append("grape")      
print(fruits)        # ['apple', 'orange', 'cherry', 'grape']

# Xóa phần tử
fruits.remove("orange")
print(fruits)        # ['apple', 'cherry', 'grape']

# Duyệt list
for f in fruits:
    print(f)

# Một số hàm tiện dụng
print(len(fruits))    # 3 (số phần tử)
print(sorted(fruits)) # ['apple', 'cherry', 'grape']






# Tạo set
animals = {"cat", "dog", "bird", "dog"}  
print(animals)   # {'cat', 'dog', 'bird'}  (tự loại bỏ trùng 'dog')

# Thêm phần tử
animals.add("fish")
print(animals)   # {'cat', 'dog', 'bird', 'fish'}

# Xóa phần tử
animals.remove("cat")
print(animals)   # {'dog', 'bird', 'fish'}

# Toán tập hợp
A = {1, 2, 3, 4}
B = {3, 4, 5, 6}

print(A | B)   # Hợp: {1, 2, 3, 4, 5, 6}
print(A & B)   # Giao: {3, 4}
print(A - B)   # Hiệu: {1, 2}
print(A ^ B)   # Đối xứng: {1, 2, 5, 6}






# Tạo mảng và truy cập
import numpy as np

a = np.array([1, 2, 3]) # tạo mảng 1 chiều
print(type(a)) # in "<class 'numpy.ndarray'>"
print(a.shape) # in "(3,)"
print(a[0], a[1], a[2]) # in "1 2 3"
a[0] = 5
print(a) # in "[5, 2, 3]"
b = np.array([[1, 2, 3],[4, 5, 6]]) # tạo mảng 2 chiều
print(b.shape) # in "(2, 3)"
print(b[0, 0], b[0, 1], b[1, 0]) # in "1 2 4"
print(np.diag([1, 3, 4])) # in ra cái gì?


import numpy as np

# Tạo mảng cơ bản
x = np.arange(3.0)            # [0. 1. 2.]
a = np.zeros((2, 2))          # mảng 2x2 toàn số 0
b = np.ones((1, 2))           # mảng 1x2 toàn số 1
c = np.full((3, 2, 2), 9)     # mảng 3x2x2 toàn số 9
d = np.eye(2)                 # ma trận đơn vị 2x2
e = np.random.random((3, 2))  # mảng 3x2 ngẫu nhiên [0,1)

# Mảng 2x3 kiểu int32
x = np.array([[1, 2, 3], [4, 5, 6]], np.int32)

print(x.ndim, x.size)   # số chiều và số phần tử
print(x.shape)          # (2, 3)
print(x.dtype)          # int32



import numpy as np
# Truy cập theo chỉ số (slicing)
# mảng 3x4
a = np.array([[1, 2, 3, 4], [5, 6, 7, 8], [9, 10, 11, 12]])
# mảng 2x2 trích xuất từ a, dòng 0+1, cột 1+2
b = a[:2, 1:3]
# chú ý: mảng của numpy tham chiếu chứ không copy dữ liệu
print(a[0, 1]) # in "2"
b[0, 0] = 77 # b[0, 0] cũng là a[0, 1]
print(a[0, 1]) # in "77"


# Cẩn thận với slicing
row_r1 = a[1, :] # mảng 1 chiều độ dài 4
row_r2 = a[1:2, :] # mảng 2 chiều 1x4
print(row_r1, row_r1.shape) # in ra "[5 6 7 8] (4,)"
print(row_r2, row_r2.shape) # in ra "[[5 6 7 8]] (1, 4)"
col_r1 = a[:, 1] # mảng 1 chiều độ dài 3
col_r2 = a[:, 1:2] # mảng 2 chiều 3x1
print(col_r1, col_r1.shape) # in ra "[ 2 6 10] (3,)"
print(col_r2, col_r2.shape) # in ra "[[ 2]

# [ 6]
# [10]] (3, 1)"





import numpy as np

x = np.array([[1, 2], [3, 4]], dtype=np.float64)
y = np.array([[5, 6], [7, 8]], dtype=np.float64)

print(x + y)          # cộng từng phần tử
print(np.add(x, y))   # tương tự

print(x - y)          # trừ từng phần tử
print(np.subtract(x, y))

print(x * y)          # nhân từng phần tử
print(np.multiply(x, y))

print(x / y)          # chia từng phần tử
print(np.divide(x, y))

print(np.sqrt(x))     # khai căn từng phần tử
print(2 ** x)         # 2 mũ từng phần tử

# chú ý: các phép toán (+, -, *, /) trong NumPy là theo cặp phần tử (element-wise),
# khác list trong Python (list thì + là nối, * là lặp).



# Nhân ma trận (dot) và nghịch đảo
import numpy as np

x = np.array([[1, 2],[3, 4]])
y = np.array([[5, 6],[7, 8]])
v = np.array([9, 10])
w = np.array([11, 12])
print(v.dot(w)) # tương tự print(np.dot(v, w))
print(x.dot(v)) # tương tự print(np.dot(x, v))
print(x.dot(y)) # tương tự print(np.dot(x, y))
print(np.linalg.inv(x)) # tính và in nghịch đảo của x


# Ma trận chuyển vị
# import numpy as np
x = np.array([[1, 2], [3, 4]])
print(x) # in ra "[[1 2]
# [3 4]]"
print(x.T) # in ra "[[1 3]
# [2 4]]"
# chú ý: mảng 1 chiều không có chuyển vị
y = np.array([1, 2, 3])
print(y) # in ra "[1 2 3]"
print(y.T) # in ra "[1 2 3]"
z = np.array([[1, 2, 3]])
print(z.T) # đoán xem in ra cái gì?





import numpy as np

x = np.array([[1, 2], [3, 4]], dtype=np.float64)
y = np.array([[5, 6], [7, 8]], dtype=np.float64)
print(x + y) # print(np.add(x, y)), xử lý khác list
print(x - y) # print(np.subtract(x, y))
print(x * y) # print(np.multiply(x, y))
print(x / y) # print(np.divide(x, y))
print(np.sqrt(x)) # khai căn tất cả các phần tử
print(2**x) # tính 2 mũ các phần tử trong x





import numpy as np

x = np.array([[1, 2],[3, 4]])
y = np.array([[5, 6],[7, 8]])
v = np.array([9, 10])
w = np.array([11, 12])
print(v.dot(w)) # tương tự print(np.dot(v, w))
print(x.dot(v)) # tương tự print(np.dot(x, v))
print(x.dot(y)) # tương tự print(np.dot(x, y))
print(np.linalg.inv(x)) # tính và in nghịch đảo của x





import numpy as np
x = np.array([[1, 2], [3, 4]])
print(x) # in ra "[[1 2]
# [3 4]]"
print(x.T) # in ra "[[1 3]
# [2 4]]"
# chú ý: mảng 1 chiều không có chuyển vị
y = np.array([1, 2, 3])
print(y) # in ra "[1 2 3]"
print(y.T) # in ra "[1 2 3]"
z = np.array([[1, 2, 3]])
print(z.T) # đoán xem in ra cái gì?





from io import StringIO
import numpy as np

c = StringIO("0 1\n2 3")
x = np.loadtxt(c)   # [[0. 1.]
                    #  [2. 3.]]

d = StringIO("M 21 72\nF 35 58")
y = np.loadtxt(
    d,
    dtype={'names': ('gender', 'age', 'weight'),
           'formats': ('S1', 'i4', 'f4')}
)
print(y)



# Cơ chế broadcasting
import numpy as np

x = np.array([
    [1, 2, 3],
    [4, 5, 6],
    [7, 8, 9],
    [10, 11, 12]
])

v = np.array([1, 0, 1])   # vector 3 phần tử

y = x + v                 # broadcasting: cộng từng cột theo v
print(y)



# Tính tổng theo các trục
import numpy as np

x = np.array([[1, 2], [3, 4]])

print(np.sum(x)) # tính tổng toàn bộ x, in "10“
print(np.sum(x, axis=0)) # tính tổng mỗi cột, in "[4 6]“
print(np.sum(x, axis=1)) # tính tổng mỗi hàng, in "[3 7]"


# Trích xuất dữ liệu theo dãy
import numpy as np
a = np.array([[1,2], [3, 4], [5, 6]])
# Prints "[1 4 5]"
print(a[[0, 1, 2], [0, 1, 0]])
# Prints "[1 4 5]"
print(np.array([a[0, 0], a[1, 1], a[2, 0]]))
# Prints "[2 2]"
print(a[[0, 0], [1, 1]])
# Prints "[2 2]"
print(np.array([a[0, 1], a[0, 1]]))


# Lọc phần tử theo chỉ số
import numpy as np

a = np.array([[1, 2, 3], [4, 5, 6], [7, 8, 9], [10, 11, 12]])
b = np.array([0, 2, 0, 1]) # b là mảng các chỉ số
print(a[np.arange(4), b]) # in ra "[1 6 7 11]"
# cộng tất cả các phần tử được lọc thêm 10
a[np.arange(4), b] += 10
print(a) # in ra "array([[11, 2, 3],

# [ 4, 5, 16],
# [17, 8, 9],
# [10, 21, 12]])


# Lọc dữ liệu theo điều kiện 
import numpy as np

a = np.array([[1, 2], [3, 4], [5, 6]])
bool_idx = (a > 2)
print(bool_idx) # in ra "[[False False]
# [ True True]
# [ True True]]"
# lọc dữ liệu trong a, trả về một dãy
print(a[bool_idx]) # Prints "[3 4 5 6]"
# có thể viết trực tiếp điều kiện (ngắn gọn hơn)
print(a[a > 2]) # Prints "[3 4 5 6]"


# Điều chỉnh cỡ ma trận 
import numpy as np

x = np.array([[1, 3], [4, 4], [4, 2]])

# Chỉnh thành 2x3
x = x.reshape(2, 3)
print(x)

# Tự tính chiều còn lại (NumPy sẽ suy ra 3)
x = np.array([[1, 3], [4, 4], [4, 2]])
x = x.reshape(2, -1)
print(x)









# Ví dụ: vẽ biểu đồ y = x2 
import numpy as np # thư viện numpy
import matplotlib.pyplot as plt # thư viện pyplot

# chia đoạn từ -20 đến 20 thành 1000 đoạn
x = np.linspace(-20, 20, 1000)
# tính y
y = x * x
# vẽ biểu đồ tương quan giữa x và y
plt.plot(x, y)
# hiển thị biểu đồ
plt.show()


# Ví dụ: Vẽ biểu đồ hình sin
import numpy as np # thư viện numpy
import matplotlib.pyplot as plt # thư viện pyplot

# chia đoạn từ 0 đến 3π thành các đoạn con 0.1
x = np.arange(0, 3 * np.pi, 0.1)
# tính sin tương ứng với từng phần tử của x
y = np.sin(x)
# vẽ biểu đồ tương quan giữa x và y
plt.plot(x, y)
# hiển thị biểu đồ
plt.show()


# Ví dụ: Biểu đồ cả SIN và COS 
import numpy as np
import matplotlib.pyplot as plt

x = np.arange(0, 3 * np.pi, 0.1)
y_sin = np.sin(x)
y_cos = np.cos(x)
plt.plot(x, y_sin)
plt.plot(x, y_cos)
plt.xlabel('Trục X')
plt.ylabel('Trục Y')
plt.title('Hàm SIN và COS trong khoảng 0 đến 3pi')
plt.legend(['SIN(x)', 'COS(x)'])
plt.show()





import numpy as np
import matplotlib.pyplot as plt

# chia đoạn 0-5 thành các bước 0.2
t = np.arange(0., 5., 0.2)

# Vẽ 3 đường:
# - màu đỏ, nét đứt: y = x
# - màu xanh dương, marker hình vuông: y = x^2
# - màu xanh lá, marker hình tam giác: y = x^3
plt.plot(t, t, 'r--', t, t**2, 'bs', t, t**3, 'g^')

plt.show()




### Biểu đồ dạng cột (bar plot)
import matplotlib.pyplot as plt
D = { 'Dược học': 3000,
'KT-NH': 900,
'QTKD': 2000,
'CNTT': 1200,
'CK-Oto': 1500,
'NN': 500 }
plt.bar(range(len(D)),
D.values(), align='center')
plt.xticks(range(len(D)),
D.keys())
plt.title('Các ngành tuyển sinh của Đại học Nguyễn Tất Thành')
plt.show()





import matplotlib.pyplot as plt
D = { 'Dược học': 3000,
'KT-NH': 900,
'QTKD': 2000,
'CNTT': 1200,
'CK-Oto': 1500,
'NN': 500 }
plt.pie(D.values(),
labels=D.keys(), autopct='%1.1f%%')
plt.axis('equal') # trục x = trục y
plt.show()





# Chia thành các biểu đồ con 
import numpy as np
import matplotlib.pyplot as plt
x = np.arange(0, 3 * np.pi, 0.1)
y_sin = np.sin(x)
y_cos = np.cos(x)
plt.subplot(2, 1, 1) # biểu đồ 1
plt.plot(x, y_sin)
plt.title('SIN(x)')
plt.subplot(2, 1, 2) # biểu đồ 2
plt.plot(x, y_cos)
plt.title('COS(x)')
plt.show()








# Tạo dữ liệu series (1) 
import pandas as pd
import numpy as np

S = pd.Series(np.random.randint(100, size = 4))
print(S)
print(S.index)
print(S.values)


# Tạo dữ liệu series (2) 
import pandas as pd
import numpy as np

chi_so = ["Ke toan", "KT", "CNTT", "Co khi"]
gia_tri = [310, 360, 580, 340]
S = pd.Series(gia_tri, index=chi_so)
print(S)
print(S.index)
print(S.values)


# Truy vấn dữ liệu thông qua chỉ số 
import pandas as pd
import numpy as np

chi_so = ["KT", "KT", "CNTT", "Co khi"] # trùng nhau
gia_tri = [310, 360, 580, 340]
S = pd.Series(gia_tri, index=chi_so)
print(S['Co khi'])
print(S['KT'])
print(S.CNTT)


import pandas as pd

chi_so = ["Ke toan", "Khi", "CNTT", "PM"]
gia_tri = [310, 360, 580, 340]

S = pd.Series(gia_tri, index=chi_so)
P = pd.Series([100, 100], index=['CNTT', 'PM'])
Y = S + P
print(Y)



import pandas as pd

def Tang(x):
    return x if x > 500 else x + 1000

chi_so = ["Ke toan", "KT", "CNTT", "Co khi"]
gia_tri = [310, 360, 580, 340]

S = pd.Series(gia_tri, index=chi_so)

# áp dụng Tang trên S (không thay đổi S)
print(S.apply(Tang))






# Tạo dataframe từ list 
crimes_rates = {
"Year":[1960,1961,1962,1963,1964],
"Population":[179323175,182992000,185771000,188483000,
191141000],
"Total":[3384200,3488000,3752200,4109500,4564600],
"Violent":[288460,289390,301510,316970,364220]
}
crimes_dataframe = pd.DataFrame(crimes_rates)
print(crimes_dataframe)


# Tạo dataframe từ list các dictionary 
data = [
{'MIT': 5000, 'Stanford': 4500, "DHTL":15000},
{'MIT': 1, 'Stanford': 2, "DHTL":200}
]
df = pd.DataFrame(data, index=['NumOfStudents', "ranking"])
print(df)
print(df.DHTL.dtype)


# Tạo dataframe từ dictionary serias 
data = {
"one": pd.Series([1,23,45], index = [1,2,3]),
"two": pd.Series([1000,2400,1132,3434], index =
[1,2,3,4])
}
df = pd.DataFrame(data)
print(df)





import pandas as pd
import numpy as np

# tạo dữ liệu 3D: (items=2, major_axis=3, minor_axis=4)
data = np.random.rand(2, 3, 4)

# tạo MultiIndex cho DataFrame
index = pd.MultiIndex.from_product(
    [range(2), range(3)], names=["item", "row"]
)
columns = [f"col{i}" for i in range(4)]

df = pd.DataFrame(data.reshape(6, 4), index=index, columns=columns)
print(df)






# Nhóm phần tử 
import pandas as pd

df3 = pd.DataFrame({
    'X': ['A', 'B', 'A', 'B'],
    'Y': [1, 4, 3, 2]
})

print(df3)
print("Lấy nhóm A:")
print(df3.groupby("X").get_group("A"))






# Dự báo sử dụng hồi quy tuyến tính 
import matplotlib.pyplot as plt
import pandas as pd
import numpy as np
from sklearn import linear_model, metrics

# đọc dữ liệu từ file csv
df = pd.read_csv("nguoi.csv", index_col = 0)
print(df)
# vẽ biểu đồ minh họa dataset
plt.plot(df.Cao, df.Nang, 'ro')
plt.xlabel('Chiều cao (cm)')
plt.ylabel('Cân nặng (kg)')
plt.show()



