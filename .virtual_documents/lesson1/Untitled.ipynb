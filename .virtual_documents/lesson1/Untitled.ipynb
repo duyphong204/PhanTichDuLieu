





# Lenh 1 - xuat chu ra man hinh 
print("Hello , Python world!")





!python ex0_hello_world.py


%run ex0_hello_world.py





%run ex1_calc.py









