


# NẠP DỮ LIỆU
import pandas as pd
import matplotlib.pyplot as plt
import seaborn as sns

wine = pd.read_csv("winequality-red.csv")

# Hiển thị 5 dòng đầu
wine.head()






# Kiểm tra kích thước và kiểu dữ liệu
print("Kích thước dữ liệu:", wine.shape)
wine.info()









# Thống kê mô tả cơ bản
wine.describe().T












# Kiểm tra missing values
print("Số giá trị thiếu mỗi cột:")
print(wine.isnull().sum())

# Kiểm tra trùng lặp
duplicates = wine.duplicated().sum()
print(f"\nSố dòng trùng lặp: {duplicates}")









import matplotlib.pyplot as plt
import seaborn as sns

plt.figure(figsize=(8,5))

sns.countplot(x='quality', data=wine, hue='quality', palette='Set2', legend=False)

plt.title('Phân bố chất lượng rượu đỏ')
plt.xlabel('Điểm chất lượng')
plt.ylabel('Số lượng mẫu')
plt.show()








import matplotlib.pyplot as plt
import seaborn as sns

plt.figure(figsize=(8,5))

sns.boxplot(x='quality', y='alcohol', data=wine, hue='quality', palette='coolwarm', legend=False)

plt.title('Mối quan hệ giữa Alcohol và Quality')
plt.xlabel('Điểm chất lượng') # Thêm nhãn trục X cho rõ ràng
plt.ylabel('Nồng độ Cồn (Alcohol)') # Thêm nhãn trục Y cho rõ ràng
plt.show()








plt.figure(figsize=(10,8))
sns.heatmap(wine.corr(), cmap='YlGnBu', annot=True, fmt=".2f")
plt.title('Ma trận tương quan giữa các đặc trưng')
plt.show()










