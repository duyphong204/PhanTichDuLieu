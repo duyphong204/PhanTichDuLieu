


# 🔹 Import thư viện
import pandas as pd
import numpy as np
import matplotlib.pyplot as plt
import seaborn as sns

# 🔹 Nạp dữ liệu (CSV tab-delimited)
marketing_data = pd.read_csv("data/marketing_campaign.csv", sep="\t")

# 🔹 Chọn các cột cần thiết
cols_needed = ['ID','Year_Birth', 'Education','Marital_Status','Income',
               'Kidhome','Teenhome','Dt_Customer','Recency','NumStorePurchases','NumWebVisitsMonth']

# 🔹 Lọc cột tồn tại trong CSV
marketing_data = marketing_data[[c for c in cols_needed if c in marketing_data.columns]]

# 🔹 Xem 5 dòng đầu tiên
marketing_data.head()



# 🔹 Kích thước dữ liệu
print("Số dòng, cột:", marketing_data.shape)

# 🔹 Kiểu dữ liệu và missing values
marketing_data.info()

# 🔹 Thống kê mô tả cho cột số
marketing_data.describe()



# 🔹 Kiểm tra số dòng trùng lặp
print("Số dòng trùng lặp:", marketing_data.duplicated().sum())

# 🔹 Loại bỏ trùng lặp
marketing_data = marketing_data.drop_duplicates()
print("Kích thước sau khi loại bỏ trùng lặp:", marketing_data.shape)



# 🔹 Thay Teenhome: 0 -> 'has no teen', 1/2 -> 'has teen'
marketing_data['Teenhome_replaced'] = marketing_data['Teenhome'].replace(
    [0,1,2], ['has no teen','has teen','has teen']
)

# 🔹 Điền missing values trong Income bằng 0
marketing_data['Income'] = marketing_data['Income'].fillna(0)

# 🔹 Chuyển kiểu dữ liệu Income từ float sang int
marketing_data['Income_changed'] = marketing_data['Income'].astype(int)

# 🔹 Kiểm tra kết quả
marketing_data[['Teenhome', 'Teenhome_replaced', 'Income', 'Income_changed']].head()



# 🔹 Kiểm tra missing values
marketing_data.isnull().sum()

# 🔹 Loại bỏ dòng có missing values (nếu cần)
marketing_data_clean = marketing_data.dropna(how='any')
print("Kích thước sau khi loại bỏ missing values:", marketing_data_clean.shape)



# 🔹 Thay thế Teenhome: 0 -> 'has no teen', 1/2 -> 'has teen'
marketing_data['Teenhome_replaced'] = marketing_data['Teenhome'].replace(
    [0,1,2], ['has no teen','has teen','has teen']
)

# 🔹 Điền missing values trong Income bằng 0
marketing_data['Income'] = marketing_data['Income'].fillna(0)

# 🔹 Chuyển kiểu dữ liệu Income từ float sang int
marketing_data['Income_changed'] = marketing_data['Income'].astype(int)

# Kiểm tra kết quả
marketing_data[['Teenhome', 'Teenhome_replaced', 'Income', 'Income_changed']].head()



# 🔹 Kiểm tra missing values
marketing_data.isnull().sum()

# 🔹 Loại bỏ các dòng có missing values (nếu muốn)
marketing_data_clean = marketing_data.dropna(how='any')
marketing_data_clean.shape



# 🔹 Histogram – phân bố thu nhập
plt.figure(figsize=(8,5))
plt.hist(marketing_data['Income_changed'], bins=30, color='skyblue', edgecolor='black')
plt.title("Phân bố thu nhập khách hàng")
plt.xlabel("Income")
plt.ylabel("Frequency")
plt.show()

# 🔹 Boxplot – kiểm tra ngoại lai trong Income
plt.figure(figsize=(6,4))
sns.boxplot(x=marketing_data['Income_changed'], color='lightgreen')
plt.title("Boxplot thu nhập khách hàng")
plt.show()

# 🔹 Countplot – số lượng khách theo Teenhome
plt.figure(figsize=(6,4))
sns.countplot(data=marketing_data, x='Teenhome_replaced', palette='pastel')
plt.title("Số lượng khách hàng có/không có Teen")
plt.show()




