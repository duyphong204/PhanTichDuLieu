








# 🔹 1. IMPORT THƯ VIỆN CẦN THIẾT
import numpy as np
import pandas as pd
from scipy import stats
import matplotlib.pyplot as plt
import seaborn as sns



# Hiển thị đầy đủ cột
pd.set_option('display.max_columns', None)

# 🔹 2. ĐỌC DỮ LIỆU
covid_data = pd.read_csv("data/compact.csv")

# Chọn một số cột cần thiết cho bài phân tích
covid_data = covid_data[['country', 'continent', 'date', 'total_cases', 'new_cases', 'total_deaths', 'new_deaths']]

# Xem 5 dòng đầu
print("📌 5 dòng đầu tiên:")
print(covid_data.head())

print("\n📊 Kiểu dữ liệu và thông tin:")
print(covid_data.info())

print("\n📏 Kích thước tập dữ liệu:", covid_data.shape)





# Loại bỏ giá trị NaN ở cột 'new_cases' để tính toán chính xác
new_cases = covid_data['new_cases'].dropna()

# Tính các chỉ số thống kê
data_mean = np.mean(new_cases)
data_median = np.median(new_cases)
data_mode = stats.mode(new_cases, keepdims=True)[0][0]
data_variance = np.var(new_cases)
data_sd = np.std(new_cases)
data_max = np.max(new_cases)
data_min = np.min(new_cases)
data_range = data_max - data_min
data_percentile = np.percentile(new_cases, 60)
data_quartiles = np.percentile(new_cases, [25, 50, 75])
data_IQR = stats.iqr(new_cases)

# In kết quả
print("\n🔹 THỐNG KÊ MÔ TẢ CỘT 'new_cases'")
print(f"Mean (Trung bình): {data_mean:.2f}")
print(f"Median (Trung vị): {data_median:.2f}")
print(f"Mode (Mode): {data_mode}")
print(f"Variance (Phương sai): {data_variance:.2f}")
print(f"Standard Deviation (Độ lệch chuẩn): {data_sd:.2f}")
print(f"Range (Khoảng giá trị): {data_range:.2f}")
print(f"60th Percentile: {data_percentile:.2f}")
print(f"Quartiles (Q1, Q2, Q3): {data_quartiles}")
print(f"IQR (Khoảng tứ phân vị): {data_IQR:.2f}")






# Kiểm tra giá trị thiếu
print("\n🔍 Số lượng giá trị thiếu theo từng cột:")
print(covid_data.isnull().sum())

# Histogram – phân bố số ca mắc mới
plt.figure(figsize=(8,5))
plt.hist(new_cases, bins=50, color='skyblue', edgecolor='black')
plt.title("Phân bố số ca mắc mới (new_cases)")
plt.xlabel("Số ca mắc mới")
plt.ylabel("Tần suất xuất hiện")
plt.show()

# Boxplot – phát hiện giá trị ngoại lai
plt.figure(figsize=(6,4))
sns.boxplot(x=new_cases, color='lightcoral')
plt.title("Boxplot – Phát hiện ngoại lai (new_cases)")
plt.show()









continent_cases = covid_data.groupby('continent')['total_cases'].max().dropna().sort_values(ascending=False)
plt.figure(figsize=(8,5))
continent_cases.plot(kind='bar', color='teal')
plt.title("Tổng số ca mắc theo châu lục")
plt.ylabel("Tổng ca mắc")
plt.show()






plt.figure(figsize=(7,5))
sns.scatterplot(data=covid_data, x='total_cases', y='total_deaths', alpha=0.5)
plt.title("Mối quan hệ giữa tổng ca mắc và tổng ca tử vong")
plt.xlabel("Tổng ca mắc (total_cases)")
plt.ylabel("Tổng ca tử vong (total_deaths)")
plt.show()





corr = covid_data[['total_cases', 'total_deaths', 'new_cases', 'new_deaths']].corr()
print("\n🔹 Ma trận tương quan:")
print(corr)


plt.figure(figsize=(6,4))
sns.heatmap(corr, annot=True, cmap='coolwarm', fmt=".2f")
plt.title("Biểu đồ nhiệt – Tương quan giữa các biến")
plt.show()





print("\n🧾 KẾT LUẬN:")
print("- Dữ liệu COVID-19 có phân bố lệch phải, nhiều giá trị ngoại lai do các đợt bùng phát lớn.")
print("- Có tương quan mạnh giữa tổng ca mắc và tổng ca tử vong (r > 0.9).")
print("- Một số giá trị bị thiếu (NaN) cần xử lý trước khi huấn luyện mô hình hoặc phân tích sâu hơn.")




