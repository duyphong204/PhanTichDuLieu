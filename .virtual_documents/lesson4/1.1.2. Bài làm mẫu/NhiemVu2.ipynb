





# ----------------------------
# Load và chuẩn hóa dataset
# ----------------------------
import pandas as pd

# Load CSV với tab separator
marketing_data = pd.read_csv("data/marketing_campaign.csv", sep='\t')

# Loại bỏ khoảng trắng thừa ở đầu / cuối tên cột
marketing_data.columns = marketing_data.columns.str.strip()

# Xem lại các cột
print("Danh sách cột trong dataset:")
print(marketing_data.columns)

# Chọn các cột quan trọng (chỉ giữ những cột thực sự tồn tại)
cols_to_keep = ['ID','Year_Birth', 'Education','Marital_Status','Income','Kidhome', 
                'Teenhome','Dt_Customer', 'Recency','NumStorePurchases','NumWebVisitsMonth',
                'MntWines','MntFruits','MntMeatProducts','MntFishProducts','MntSweetProducts',
                'MntGoldProds','NumDealsPurchases','NumWebPurchases','NumCatalogPurchases',
                'AcceptedCmp3','AcceptedCmp4','AcceptedCmp5','AcceptedCmp1','AcceptedCmp2',
                'Complain','Z_CostContact','Z_Revenue','Response']






marketing_data.head()
# Remove duplicates across the columns in our dataset:
marketing_data_duplicate = marketing_data.drop_duplicates()
# Delete a specified row at index value 1:
marketing_data.drop(labels=[1], axis=0)
# Delete a single column
marketing_data.drop(labels=['Year_Birth'], axis=1)





import pandas as pd

# Load CSV với tab separator và chuẩn hóa tên cột
marketing_data = pd.read_csv("data/marketing_campaign.csv", sep='\t')
marketing_data.columns = marketing_data.columns.str.strip()  # loại bỏ khoảng trắng

# Thay thế giá trị Teenhome
# - 0 -> 'has no teen', 1 hoặc 2 -> 'has teen'
# - fillna(0) trước để tránh NaN gây lỗi
marketing_data['Teenhome_replaced'] = marketing_data['Teenhome'].fillna(0).replace(
    [0,1,2], ['has no teen','has teen','has teen']
)

# Fill giá trị thiếu trong cột Income bằng 0
marketing_data['Income'] = marketing_data['Income'].fillna(0)

# Chuyển cột Income sang kiểu int
# - Nếu còn NaN, dùng kiểu Int64 hỗ trợ NaN
marketing_data['Income_changed'] = marketing_data['Income'].astype(int)

# Kiểm tra kết quả
print("5 dòng đầu tiên sau xử lý Teenhome và Income:")
print(marketing_data[['Teenhome','Teenhome_replaced','Income','Income_changed']].head())

# Kiểm tra kiểu dữ liệu để chắc chắn
print("\nKiểu dữ liệu các cột:")
print(marketing_data[['Teenhome_replaced','Income','Income_changed']].dtypes)





# Kiểm tra số giá trị thiếu theo cột
marketing_data.isnull().sum()  
# => Đếm số NaN trong từng cột

# Loại bỏ các dòng có ít nhất 1 giá trị thiếu
marketing_data_withoutna = marketing_data.dropna(how='any')
# => Tạo DataFrame mới, bỏ dòng missing

# Kiểm tra kích thước DataFrame sau khi loại bỏ missing
marketing_data_withoutna.shape
# => (số dòng, số cột) còn lại, ví dụ (2240,31)




