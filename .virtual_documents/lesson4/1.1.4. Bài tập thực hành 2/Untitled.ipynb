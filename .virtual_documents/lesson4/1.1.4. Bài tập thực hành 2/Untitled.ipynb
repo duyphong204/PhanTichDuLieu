


# 1️NẠP DỮ LIỆU
import pandas as pd
import matplotlib.pyplot as plt
import seaborn as sns

# Đọc dữ liệu CSV (đặt đúng đường dẫn file)
diabetes = pd.read_csv("diabetes.csv")

# Hiển thị 5 dòng đầu tiên
diabetes.head()






# Kích thước, kiểu dữ liệu
print("Kích thước dữ liệu:", diabetes.shape)
diabetes.info()









# Thống kê mô tả các cột số
diabetes.describe().T









# Kiểm tra giá trị thiếu
print("🔹 Số giá trị thiếu mỗi cột:")
print(diabetes.isnull().sum())

# Kiểm tra giá trị 0 ở các cột quan trọng
cols = ["Glucose", "BloodPressure", "SkinThickness", "Insulin", "BMI"]
for col in cols:
    zero_count = (diabetes[col] == 0).sum()
    print(f"{col}: {zero_count} giá trị 0")









import matplotlib.pyplot as plt
import seaborn as sns

plt.figure(figsize=(6,4))

# Sửa lỗi: Thêm hue='Outcome' và legend=False
sns.countplot(x='Outcome', data=diabetes, hue='Outcome', palette='Set2', legend=False)

plt.title('Phân bố bệnh tiểu đường')
plt.xlabel('Outcome (0 = Không, 1 = Có)')
plt.ylabel('Số lượng')
plt.show()








diabetes.hist(figsize=(12,10), bins=20, color='#3CB371')
plt.suptitle('Phân bố các đặc trưng trong tập dữ liệu', fontsize=14)
plt.show()









plt.figure(figsize=(10,8))
sns.heatmap(diabetes.corr(), annot=True, cmap='YlOrRd', fmt=".2f")
plt.title("Ma trận tương quan giữa các biến")
plt.show()







