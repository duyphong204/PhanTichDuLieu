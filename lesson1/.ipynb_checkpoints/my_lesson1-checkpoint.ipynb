{
 "cells": [
  {
   "cell_type": "markdown",
   "id": "14956fb7-61ce-4e64-b527-fed0ed7bd0e7",
   "metadata": {
    "panel-layout": {
     "height": 93.8438,
     "visible": true,
     "width": 100
    }
   },
   "source": [
    "# Thuc hanh tri tue nhan tao buoi 1 \n",
    "\n",
    "## Noi dung thuc hanh "
   ]
  },
  {
   "cell_type": "markdown",
   "id": "c11a357f-5cd2-4f71-b6aa-b39006d74459",
   "metadata": {
    "panel-layout": {
     "height": 44.0938,
     "visible": true,
     "width": 100
    }
   },
   "source": [
    "### in chu ra man hinh "
   ]
  },
  {
   "cell_type": "code",
   "execution_count": null,
   "id": "7690dc26-f6aa-4aa5-b37b-e85cfe6f55b1",
   "metadata": {
    "panel-layout": {
     "height": 0,
     "visible": true,
     "width": 100
    }
   },
   "outputs": [],
   "source": [
    "# Lenh 1 - xuat chu ra man hinh \n",
    "print(\"Hello , Python world!\")"
   ]
  },
  {
   "cell_type": "markdown",
   "id": "2725dd49-957f-4828-8258-a9698b5a0174",
   "metadata": {
    "panel-layout": {
     "height": 44.0938,
     "visible": true,
     "width": 100
    }
   },
   "source": [
    "### chay tap tin python"
   ]
  },
  {
   "cell_type": "code",
   "execution_count": 4,
   "id": "1a47200b-fb38-4905-89a1-f1104823567f",
   "metadata": {},
   "outputs": [
    {
     "name": "stdout",
     "output_type": "stream",
     "text": [
      "Hello , Python world!\n"
     ]
    }
   ],
   "source": [
    "!python ex0_hello_world.py"
   ]
  },
  {
   "cell_type": "code",
   "execution_count": 3,
   "id": "2bba902c-e46d-4c57-a997-df05371b5744",
   "metadata": {},
   "outputs": [
    {
     "name": "stdout",
     "output_type": "stream",
     "text": [
      "Hello , Python world!\n"
     ]
    }
   ],
   "source": [
    "%run ex0_hello_world.py"
   ]
  },
  {
   "cell_type": "markdown",
   "id": "f3b94056-ef75-431f-85ef-b387b8bf2ba5",
   "metadata": {
    "panel-layout": {
     "height": 44.09375,
     "visible": true,
     "width": 100
    }
   },
   "source": [
    "### Tinh toan don gian "
   ]
  },
  {
   "cell_type": "code",
   "execution_count": null,
   "id": "2da1b77a-2867-458e-97a9-c195ad8d5185",
   "metadata": {},
   "outputs": [],
   "source": [
    "%run ex1_calc.py"
   ]
  },
  {
   "cell_type": "code",
   "execution_count": 2,
   "id": "c81d315a-3681-4376-a427-dd5b28e6a2cd",
   "metadata": {},
   "outputs": [
    {
     "name": "stdout",
     "output_type": "stream",
     "text": [
      "caculator Basic\n"
     ]
    },
    {
     "name": "stdin",
     "output_type": "stream",
     "text": [
      "Moi ban nhap a :  4\n",
      "Moi ban nhap b :  4\n"
     ]
    },
    {
     "name": "stdout",
     "output_type": "stream",
     "text": [
      "c = 4 + 4 = 8 \n"
     ]
    }
   ],
   "source": [
    "print(\"caculator Basic\")\n",
    "a = int(input(\"Moi ban nhap a : \"))\n",
    "b = int(input(\"Moi ban nhap b : \"))\n",
    "c = a + b \n",
    "print(\"c = %d + %d = %d \" % (a,b,c))"
   ]
  },
  {
   "cell_type": "markdown",
   "id": "d1663d70-b41a-4bce-8a9b-33ccd6c1aefc",
   "metadata": {
    "panel-layout": {
     "height": 60.5938,
     "visible": true,
     "width": 100
    }
   },
   "source": [
    "# Ket thuc"
   ]
  },
  {
   "cell_type": "code",
   "execution_count": null,
   "id": "a92ad0ac-66ed-498b-a4ed-96db3811db25",
   "metadata": {},
   "outputs": [],
   "source": []
  }
 ],
 "metadata": {
  "kernelspec": {
   "display_name": "Python 3 (ipykernel)",
   "language": "python",
   "name": "python3"
  },
  "language_info": {
   "codemirror_mode": {
    "name": "ipython",
    "version": 3
   },
   "file_extension": ".py",
   "mimetype": "text/x-python",
   "name": "python",
   "nbconvert_exporter": "python",
   "pygments_lexer": "ipython3",
   "version": "3.13.5"
  },
  "panel-cell-order": [
   "14956fb7-61ce-4e64-b527-fed0ed7bd0e7",
   "c11a357f-5cd2-4f71-b6aa-b39006d74459",
   "2725dd49-957f-4828-8258-a9698b5a0174",
   "d1663d70-b41a-4bce-8a9b-33ccd6c1aefc",
   "7690dc26-f6aa-4aa5-b37b-e85cfe6f55b1",
   "f3b94056-ef75-431f-85ef-b387b8bf2ba5"
  ]
 },
 "nbformat": 4,
 "nbformat_minor": 5
}
