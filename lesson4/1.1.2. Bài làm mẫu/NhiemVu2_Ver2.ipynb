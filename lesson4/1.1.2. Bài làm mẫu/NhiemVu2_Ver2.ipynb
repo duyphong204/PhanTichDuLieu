{
 "cells": [
  {
   "cell_type": "markdown",
   "id": "07ea01bf-4eaf-4d07-aed5-b58e4f6ec9a7",
   "metadata": {},
   "source": [
    "# Nhiệm vụ 2: Khám phá và xử lý dữ liệu Marketing Campaign\n",
    "**Nguồn dữ liệu:** [Customer Personality Analysis - Kaggle](https://www.kaggle.com/datasets/imakash3011/customer-personality-analysis)\n"
   ]
  },
  {
   "cell_type": "markdown",
   "id": "4e6f685c-86d0-47cc-a05e-1463b756869e",
   "metadata": {},
   "source": [
    "### 1.Import thư viện và nạp dữ liệu"
   ]
  },
  {
   "cell_type": "code",
   "execution_count": 4,
   "id": "a5dccd41-82fb-47b1-9887-fc65bc01c048",
   "metadata": {},
   "outputs": [
    {
     "data": {
      "text/html": [
       "<div>\n",
       "<style scoped>\n",
       "    .dataframe tbody tr th:only-of-type {\n",
       "        vertical-align: middle;\n",
       "    }\n",
       "\n",
       "    .dataframe tbody tr th {\n",
       "        vertical-align: top;\n",
       "    }\n",
       "\n",
       "    .dataframe thead th {\n",
       "        text-align: right;\n",
       "    }\n",
       "</style>\n",
       "<table border=\"1\" class=\"dataframe\">\n",
       "  <thead>\n",
       "    <tr style=\"text-align: right;\">\n",
       "      <th></th>\n",
       "      <th>ID</th>\n",
       "      <th>Year_Birth</th>\n",
       "      <th>Education</th>\n",
       "      <th>Marital_Status</th>\n",
       "      <th>Income</th>\n",
       "      <th>Kidhome</th>\n",
       "      <th>Teenhome</th>\n",
       "      <th>Dt_Customer</th>\n",
       "      <th>Recency</th>\n",
       "      <th>NumStorePurchases</th>\n",
       "      <th>NumWebVisitsMonth</th>\n",
       "    </tr>\n",
       "  </thead>\n",
       "  <tbody>\n",
       "    <tr>\n",
       "      <th>0</th>\n",
       "      <td>5524</td>\n",
       "      <td>1957</td>\n",
       "      <td>Graduation</td>\n",
       "      <td>Single</td>\n",
       "      <td>58138.0</td>\n",
       "      <td>0</td>\n",
       "      <td>0</td>\n",
       "      <td>04-09-2012</td>\n",
       "      <td>58</td>\n",
       "      <td>4</td>\n",
       "      <td>7</td>\n",
       "    </tr>\n",
       "    <tr>\n",
       "      <th>1</th>\n",
       "      <td>2174</td>\n",
       "      <td>1954</td>\n",
       "      <td>Graduation</td>\n",
       "      <td>Single</td>\n",
       "      <td>46344.0</td>\n",
       "      <td>1</td>\n",
       "      <td>1</td>\n",
       "      <td>08-03-2014</td>\n",
       "      <td>38</td>\n",
       "      <td>2</td>\n",
       "      <td>5</td>\n",
       "    </tr>\n",
       "    <tr>\n",
       "      <th>2</th>\n",
       "      <td>4141</td>\n",
       "      <td>1965</td>\n",
       "      <td>Graduation</td>\n",
       "      <td>Together</td>\n",
       "      <td>71613.0</td>\n",
       "      <td>0</td>\n",
       "      <td>0</td>\n",
       "      <td>21-08-2013</td>\n",
       "      <td>26</td>\n",
       "      <td>10</td>\n",
       "      <td>4</td>\n",
       "    </tr>\n",
       "    <tr>\n",
       "      <th>3</th>\n",
       "      <td>6182</td>\n",
       "      <td>1984</td>\n",
       "      <td>Graduation</td>\n",
       "      <td>Together</td>\n",
       "      <td>26646.0</td>\n",
       "      <td>1</td>\n",
       "      <td>0</td>\n",
       "      <td>10-02-2014</td>\n",
       "      <td>26</td>\n",
       "      <td>4</td>\n",
       "      <td>6</td>\n",
       "    </tr>\n",
       "    <tr>\n",
       "      <th>4</th>\n",
       "      <td>5324</td>\n",
       "      <td>1981</td>\n",
       "      <td>PhD</td>\n",
       "      <td>Married</td>\n",
       "      <td>58293.0</td>\n",
       "      <td>1</td>\n",
       "      <td>0</td>\n",
       "      <td>19-01-2014</td>\n",
       "      <td>94</td>\n",
       "      <td>6</td>\n",
       "      <td>5</td>\n",
       "    </tr>\n",
       "  </tbody>\n",
       "</table>\n",
       "</div>"
      ],
      "text/plain": [
       "     ID  Year_Birth   Education Marital_Status   Income  Kidhome  Teenhome  \\\n",
       "0  5524        1957  Graduation         Single  58138.0        0         0   \n",
       "1  2174        1954  Graduation         Single  46344.0        1         1   \n",
       "2  4141        1965  Graduation       Together  71613.0        0         0   \n",
       "3  6182        1984  Graduation       Together  26646.0        1         0   \n",
       "4  5324        1981         PhD        Married  58293.0        1         0   \n",
       "\n",
       "  Dt_Customer  Recency  NumStorePurchases  NumWebVisitsMonth  \n",
       "0  04-09-2012       58                  4                  7  \n",
       "1  08-03-2014       38                  2                  5  \n",
       "2  21-08-2013       26                 10                  4  \n",
       "3  10-02-2014       26                  4                  6  \n",
       "4  19-01-2014       94                  6                  5  "
      ]
     },
     "execution_count": 4,
     "metadata": {},
     "output_type": "execute_result"
    }
   ],
   "source": [
    "# 🔹 Import thư viện\n",
    "import pandas as pd\n",
    "import numpy as np\n",
    "import matplotlib.pyplot as plt\n",
    "import seaborn as sns\n",
    "\n",
    "# 🔹 Nạp dữ liệu (CSV tab-delimited)\n",
    "marketing_data = pd.read_csv(\"data/marketing_campaign.csv\", sep=\"\\t\")\n",
    "\n",
    "# 🔹 Chọn các cột cần thiết\n",
    "cols_needed = ['ID','Year_Birth', 'Education','Marital_Status','Income',\n",
    "               'Kidhome','Teenhome','Dt_Customer','Recency','NumStorePurchases','NumWebVisitsMonth']\n",
    "\n",
    "# 🔹 Lọc cột tồn tại trong CSV\n",
    "marketing_data = marketing_data[[c for c in cols_needed if c in marketing_data.columns]]\n",
    "\n",
    "# 🔹 Xem 5 dòng đầu tiên\n",
    "marketing_data.head()\n"
   ]
  },
  {
   "cell_type": "markdown",
   "id": "50d6674b-325a-4044-9768-a7baff28e742",
   "metadata": {},
   "source": [
    "Nhận xét:\n",
    "- Dữ liệu gồm các thông tin nhân khẩu học, tình trạng hôn nhân, thu nhập, số con và hành vi mua hàng của khách hàng.\n",
    "Cột Dt_Customer thể hiện ngày trở thành khách hàng, Recency là số ngày kể từ lần mua gần nhất."
   ]
  },
  {
   "cell_type": "markdown",
   "id": "8d8f1074-faf7-4d25-ba99-5684559fb20b",
   "metadata": {},
   "source": [
    "### 2.Loại bỏ dữ liệu trùng lặp"
   ]
  },
  {
   "cell_type": "code",
   "execution_count": 5,
   "id": "ab4ddc17-fdec-4e8b-88f6-6925427119c4",
   "metadata": {},
   "outputs": [
    {
     "data": {
      "text/plain": [
       "(2239, 10)"
      ]
     },
     "execution_count": 5,
     "metadata": {},
     "output_type": "execute_result"
    }
   ],
   "source": [
    "# Xóa các dòng trùng lặp\n",
    "marketing_data_duplicate = marketing_data.drop_duplicates()\n",
    "\n",
    "# Xóa dòng có index = 1 (nếu cần)\n",
    "marketing_data = marketing_data.drop(labels=[1], axis=0)\n",
    "\n",
    "# Xóa cột Year_Birth (ví dụ minh họa)\n",
    "marketing_data = marketing_data.drop(labels=['Year_Birth'], axis=1)\n",
    "\n",
    "# Kiểm tra kích thước sau khi xóa\n",
    "marketing_data.shape\n"
   ]
  },
  {
   "cell_type": "markdown",
   "id": "86c1934f-ec1b-4734-9f1d-055a7946d8b6",
   "metadata": {},
   "source": [
    "Nhận xét:\n",
    "- Sau khi loại bỏ trùng lặp, dữ liệu trở nên sạch hơn, giảm khả năng sai lệch khi phân tích thống kê."
   ]
  },
  {
   "cell_type": "markdown",
   "id": "bf1bf738-cf0a-4c18-9bba-b70cf4ea8198",
   "metadata": {},
   "source": [
    "### 3.Thay thế và thay đổi định dạng dữ liệu"
   ]
  },
  {
   "cell_type": "code",
   "execution_count": 6,
   "id": "832803cd-bda5-461e-89ea-77726e680869",
   "metadata": {},
   "outputs": [
    {
     "data": {
      "text/html": [
       "<div>\n",
       "<style scoped>\n",
       "    .dataframe tbody tr th:only-of-type {\n",
       "        vertical-align: middle;\n",
       "    }\n",
       "\n",
       "    .dataframe tbody tr th {\n",
       "        vertical-align: top;\n",
       "    }\n",
       "\n",
       "    .dataframe thead th {\n",
       "        text-align: right;\n",
       "    }\n",
       "</style>\n",
       "<table border=\"1\" class=\"dataframe\">\n",
       "  <thead>\n",
       "    <tr style=\"text-align: right;\">\n",
       "      <th></th>\n",
       "      <th>ID</th>\n",
       "      <th>Education</th>\n",
       "      <th>Marital_Status</th>\n",
       "      <th>Income</th>\n",
       "      <th>Kidhome</th>\n",
       "      <th>Teenhome</th>\n",
       "      <th>Dt_Customer</th>\n",
       "      <th>Recency</th>\n",
       "      <th>NumStorePurchases</th>\n",
       "      <th>NumWebVisitsMonth</th>\n",
       "      <th>Teenhome_replaced</th>\n",
       "      <th>Income_changed</th>\n",
       "    </tr>\n",
       "  </thead>\n",
       "  <tbody>\n",
       "    <tr>\n",
       "      <th>0</th>\n",
       "      <td>5524</td>\n",
       "      <td>Graduation</td>\n",
       "      <td>Single</td>\n",
       "      <td>58138.0</td>\n",
       "      <td>0</td>\n",
       "      <td>0</td>\n",
       "      <td>04-09-2012</td>\n",
       "      <td>58</td>\n",
       "      <td>4</td>\n",
       "      <td>7</td>\n",
       "      <td>has no teen</td>\n",
       "      <td>58138</td>\n",
       "    </tr>\n",
       "    <tr>\n",
       "      <th>2</th>\n",
       "      <td>4141</td>\n",
       "      <td>Graduation</td>\n",
       "      <td>Together</td>\n",
       "      <td>71613.0</td>\n",
       "      <td>0</td>\n",
       "      <td>0</td>\n",
       "      <td>21-08-2013</td>\n",
       "      <td>26</td>\n",
       "      <td>10</td>\n",
       "      <td>4</td>\n",
       "      <td>has no teen</td>\n",
       "      <td>71613</td>\n",
       "    </tr>\n",
       "    <tr>\n",
       "      <th>3</th>\n",
       "      <td>6182</td>\n",
       "      <td>Graduation</td>\n",
       "      <td>Together</td>\n",
       "      <td>26646.0</td>\n",
       "      <td>1</td>\n",
       "      <td>0</td>\n",
       "      <td>10-02-2014</td>\n",
       "      <td>26</td>\n",
       "      <td>4</td>\n",
       "      <td>6</td>\n",
       "      <td>has no teen</td>\n",
       "      <td>26646</td>\n",
       "    </tr>\n",
       "    <tr>\n",
       "      <th>4</th>\n",
       "      <td>5324</td>\n",
       "      <td>PhD</td>\n",
       "      <td>Married</td>\n",
       "      <td>58293.0</td>\n",
       "      <td>1</td>\n",
       "      <td>0</td>\n",
       "      <td>19-01-2014</td>\n",
       "      <td>94</td>\n",
       "      <td>6</td>\n",
       "      <td>5</td>\n",
       "      <td>has no teen</td>\n",
       "      <td>58293</td>\n",
       "    </tr>\n",
       "    <tr>\n",
       "      <th>5</th>\n",
       "      <td>7446</td>\n",
       "      <td>Master</td>\n",
       "      <td>Together</td>\n",
       "      <td>62513.0</td>\n",
       "      <td>0</td>\n",
       "      <td>1</td>\n",
       "      <td>09-09-2013</td>\n",
       "      <td>16</td>\n",
       "      <td>10</td>\n",
       "      <td>6</td>\n",
       "      <td>has teen</td>\n",
       "      <td>62513</td>\n",
       "    </tr>\n",
       "  </tbody>\n",
       "</table>\n",
       "</div>"
      ],
      "text/plain": [
       "     ID   Education Marital_Status   Income  Kidhome  Teenhome Dt_Customer  \\\n",
       "0  5524  Graduation         Single  58138.0        0         0  04-09-2012   \n",
       "2  4141  Graduation       Together  71613.0        0         0  21-08-2013   \n",
       "3  6182  Graduation       Together  26646.0        1         0  10-02-2014   \n",
       "4  5324         PhD        Married  58293.0        1         0  19-01-2014   \n",
       "5  7446      Master       Together  62513.0        0         1  09-09-2013   \n",
       "\n",
       "   Recency  NumStorePurchases  NumWebVisitsMonth Teenhome_replaced  \\\n",
       "0       58                  4                  7       has no teen   \n",
       "2       26                 10                  4       has no teen   \n",
       "3       26                  4                  6       has no teen   \n",
       "4       94                  6                  5       has no teen   \n",
       "5       16                 10                  6          has teen   \n",
       "\n",
       "   Income_changed  \n",
       "0           58138  \n",
       "2           71613  \n",
       "3           26646  \n",
       "4           58293  \n",
       "5           62513  "
      ]
     },
     "execution_count": 6,
     "metadata": {},
     "output_type": "execute_result"
    }
   ],
   "source": [
    "# Thay giá trị trong cột Teenhome\n",
    "marketing_data['Teenhome_replaced'] = marketing_data['Teenhome'].replace(\n",
    "    [0,1,2],\n",
    "    ['has no teen','has teen','has teen']\n",
    ")\n",
    "\n",
    "# Điền giá trị thiếu trong cột Income bằng 0\n",
    "marketing_data['Income'] = marketing_data['Income'].fillna(0)\n",
    "\n",
    "# Chuyển kiểu dữ liệu từ float sang int\n",
    "marketing_data['Income_changed'] = marketing_data['Income'].astype(int)\n",
    "\n",
    "# Hiển thị vài dòng để kiểm tra\n",
    "marketing_data.head()\n"
   ]
  },
  {
   "cell_type": "markdown",
   "id": "cedd892d-f9fc-49cb-a5e2-da0874d3a20d",
   "metadata": {},
   "source": [
    "Nhận xét:\n",
    "- Việc thay thế giúp dữ liệu dễ hiểu hơn cho người đọc.\n",
    "- Cột Income đã được xử lý giá trị thiếu và đổi sang kiểu số nguyên để thống nhất định dạng."
   ]
  },
  {
   "cell_type": "markdown",
   "id": "55a4f034-96c1-4453-a732-a8ca218494f8",
   "metadata": {},
   "source": [
    "### 4.Xử lý dữ liệu thiếu"
   ]
  },
  {
   "cell_type": "code",
   "execution_count": 7,
   "id": "b5a2eeb1-f783-4235-985e-d33b820f548d",
   "metadata": {},
   "outputs": [
    {
     "data": {
      "text/plain": [
       "(2239, 12)"
      ]
     },
     "execution_count": 7,
     "metadata": {},
     "output_type": "execute_result"
    }
   ],
   "source": [
    "# Kiểm tra số lượng giá trị thiếu\n",
    "marketing_data.isnull().sum()\n",
    "\n",
    "# Loại bỏ các dòng có giá trị thiếu\n",
    "marketing_data_withoutna = marketing_data.dropna(how='any')\n",
    "\n",
    "# Kiểm tra kích thước sau khi loại bỏ\n",
    "marketing_data_withoutna.shape\n"
   ]
  },
  {
   "cell_type": "markdown",
   "id": "0f65966b-81d6-47ba-801e-3d17dcd1f38f",
   "metadata": {},
   "source": [
    "Nhận xét:\n",
    "- Một số cột có giá trị bị thiếu, chủ yếu là ở cột Income.\n",
    "- Sau khi loại bỏ các dòng chứa giá trị thiếu, dữ liệu có kích thước nhỏ hơn nhưng đảm bảo tính toàn vẹn."
   ]
  },
  {
   "cell_type": "markdown",
   "id": "8939b21f-5413-4345-8ea1-0fde5ed4064c",
   "metadata": {},
   "source": [
    "### 5.Kết luận chung"
   ]
  },
  {
   "cell_type": "markdown",
   "id": "4dfc1a8b-0525-45d4-a183-769f273d4a47",
   "metadata": {},
   "source": [
    "Dữ liệu sau khi xử lý đã:\n",
    "- Loại bỏ trùng lặp và dữ liệu thiếu.\n",
    "- Thay thế và đổi định dạng dữ liệu hợp lý.\n",
    "- Sẵn sàng cho các bước phân tích, trực quan và huấn luyện mô hình tiếp theo.\n"
   ]
  },
  {
   "cell_type": "code",
   "execution_count": null,
   "id": "c64bba18-9634-4a09-873a-d05a0befd2b6",
   "metadata": {},
   "outputs": [],
   "source": []
  }
 ],
 "metadata": {
  "kernelspec": {
   "display_name": "Python 3 (ipykernel)",
   "language": "python",
   "name": "python3"
  },
  "language_info": {
   "codemirror_mode": {
    "name": "ipython",
    "version": 3
   },
   "file_extension": ".py",
   "mimetype": "text/x-python",
   "name": "python",
   "nbconvert_exporter": "python",
   "pygments_lexer": "ipython3",
   "version": "3.13.5"
  }
 },
 "nbformat": 4,
 "nbformat_minor": 5
}
