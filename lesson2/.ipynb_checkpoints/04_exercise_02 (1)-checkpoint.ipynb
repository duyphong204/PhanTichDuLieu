{
 "cells": [
  {
   "cell_type": "markdown",
   "id": "154c8525-a8b1-4532-8b8c-a6048596e61b",
   "metadata": {},
   "source": [
    "# Kỹ thuật lập trình Python"
   ]
  },
  {
   "cell_type": "markdown",
   "id": "bff7ceae-0971-41e5-9ad6-a25c303fecab",
   "metadata": {},
   "source": [
    "## Làm quen với Numpy"
   ]
  },
  {
   "cell_type": "markdown",
   "id": "bda2fb69-42db-4a12-8b57-7b4815510961",
   "metadata": {},
   "source": [
    "### Bài 1. Tính toán trên dãy số"
   ]
  },
  {
   "cell_type": "markdown",
   "id": "04e6a456-6793-4645-b159-426121c860a6",
   "metadata": {},
   "source": [
    "#### 1. Tạo một dãy số a có N phần tử (N = 10)"
   ]
  },
  {
   "cell_type": "code",
   "execution_count": 1,
   "id": "bac1a84b-a496-40c6-962e-97c0acaf7d8e",
   "metadata": {},
   "outputs": [
    {
     "name": "stdout",
     "output_type": "stream",
     "text": [
      "1. Tạo một dãy số a có N phần tử (N = 10)\n",
      "Dãy số a:  [0 1 2 3 4 5 6 7 8 9]\n"
     ]
    }
   ],
   "source": [
    "import numpy as np\n",
    "\n",
    "# Tạo một dãy số a có N = 10 phần tử, với các giá trị từ 0 đến 9\n",
    "a = np.arange(10)\n",
    "\n",
    "print(\"1. Tạo một dãy số a có N phần tử (N = 10)\")\n",
    "print(\"Dãy số a: \", a)"
   ]
  },
  {
   "cell_type": "markdown",
   "id": "4d85d8e2-16ff-42d1-acda-97e62736aaf6",
   "metadata": {},
   "source": [
    "#### 2. Các thao tác trên dãy số a\n",
    "(a) Bình phương các phần tử trong dãy số <br/>\n",
    "(b) Tìm số lượng các phần tử của dãy số <br/>\n",
    "(c) In ra giá trị lớn nhất, giá trị nhỏ nhất và giá trị trung bình <br/>\n",
    "(d) Tính phương sai của dãy số $\\sigma^2 = \\frac{\\sum{\\left(a_i - \\mu\\right)^2}}{N - 1}$ với $\\mu = \\frac{\\sum{a_i}}{N}$ và độ lệch chuẩn $var = \\sqrt{\\sigma^2}$"
   ]
  },
  {
   "cell_type": "code",
   "execution_count": 2,
   "id": "5d245b5b-90d5-48bf-b870-fc7c2deecd12",
   "metadata": {},
   "outputs": [
    {
     "name": "stdout",
     "output_type": "stream",
     "text": [
      "2. Các thao tác tính toán đơn giản với dãy số a\n",
      "a. Bình phương a:  [ 0  1  4  9 16 25 36 49 64 81]\n",
      "\n",
      "b. Độ dài a:  10\n",
      "\n",
      "c. Giá trị lớn nhất: [9], giá trị nhỏ nhất: [0], giá trị trung bình [4.5]\n",
      "\n",
      "d. Phương sai: [ 9.17] và độ lệch chuẩn: [ 3.03]\n"
     ]
    }
   ],
   "source": [
    "import numpy as np\n",
    "\n",
    "# Giả sử dãy số 'a' đã được tạo ra từ bài trước\n",
    "a = np.arange(10)\n",
    "\n",
    "print(\"2. Các thao tác tính toán đơn giản với dãy số a\")\n",
    "\n",
    "# a. Bình phương các phần tử trong dãy số\n",
    "a2 = a**2\n",
    "\n",
    "# b. Tìm số lượng các phần tử của dãy số\n",
    "na = len(a)\n",
    "\n",
    "# c. In ra giá trị lớn nhất, nhỏ nhất và giá trị trung bình\n",
    "v_max = np.max(a)\n",
    "v_min = np.min(a)\n",
    "v_avg = np.mean(a)\n",
    "\n",
    "# d. Tính phương sai và độ lệch chuẩn\n",
    "# Sử dụng công thức phương sai mẫu: chia cho N-1\n",
    "# np.var(a) tính phương sai tổng thể (chia cho N)\n",
    "# np.var(a, ddof=1) sẽ tính phương sai mẫu (chia cho N-1)\n",
    "v_sigma2 = np.var(a, ddof=1)\n",
    "v_var = np.sqrt(v_sigma2) # Độ lệch chuẩn là căn bậc hai của phương sai\n",
    "# Hoặc sử dụng np.std(a, ddof=1) để tính trực tiếp\n",
    "# v_var = np.std(a, ddof=1)\n",
    "\n",
    "print(\"a. Bình phương a: \", a2)\n",
    "print(\"\\nb. Độ dài a: \", na)\n",
    "print(f'\\nc. Giá trị lớn nhất: [{v_max}], giá trị nhỏ nhất: [{v_min}], giá trị trung bình [{v_avg}]')\n",
    "print(f'\\nd. Phương sai: [{v_sigma2: .2f}] và độ lệch chuẩn: [{v_var: .2f}]')"
   ]
  },
  {
   "cell_type": "markdown",
   "id": "1b582e22-cc99-4933-892b-e0d83672fb7f",
   "metadata": {},
   "source": [
    "#### 3. Toán tử trên hai dãy số\n",
    "(a) Tạo dãy số x có 10 phần tử từ 1 đến 10 (dùng hàm np.arange) <br/>\n",
    "(b) Liệt kê và đếm số lượng phần tử chẵn và lẻ có trong dãy a và x <br/>\n",
    "(c) Tính khoảng cách giữa các phần tử ở vị trí lẻ của mảng a và x với $s = \\sqrt{\\sum{\\left(a_i - x_i\\right)^2}}$ với $i$ lẻ<br/>\n",
    "(d) Tìm khoảng cách nhỏ nhất giữa tập a và x. Ví dụ: min({1, 3, 5}, {2, 10, 8}} = 1"
   ]
  },
  {
   "cell_type": "code",
   "execution_count": 5,
   "id": "1c6f51c1-ac3d-46a8-ab35-0d087877fb9d",
   "metadata": {},
   "outputs": [
    {
     "name": "stdout",
     "output_type": "stream",
     "text": [
      "3. Xử lý khác trên dãy số\n",
      "a. Day so x: [ 1  2  3  4  5  6  7  8  9 10]\n"
     ]
    }
   ],
   "source": [
    "import numpy as np\n",
    "# Giả sử dãy số 'a' đã được tạo ra từ bài trước\n",
    "a = np.arange(10)\n",
    "\n",
    "print(\"3. Xử lý khác trên dãy số\")\n",
    "\n",
    "# a. Tạo dãy số x có 10 phần tử từ 1 đến 10\n",
    "x = np.arange(1, 11)\n",
    "\n",
    "print(f'a. Day so x: {x}')"
   ]
  },
  {
   "cell_type": "code",
   "execution_count": 11,
   "id": "13211d38-0008-49ba-ac7b-c4ea034d12f4",
   "metadata": {},
   "outputs": [
    {
     "name": "stdout",
     "output_type": "stream",
     "text": [
      "b. Cac phan tu chan trong day a, b: \n",
      "+ Day a: [0 1 2 3 4 5 6 7 8 9]\n",
      "  - Loc chan: [ True False  True False  True False  True False  True False]\n",
      "  - Day chua phan tu chan trong a: [0 2 4 6 8], so luong 5 phan tu.\n",
      "+ Day x: [ 2.73896304  0.99066818  1.61259146 ... -0.45434017  1.57933134\n",
      "  2.16128414]\n",
      "  - Loc chan: [False False False ... False False False]\n",
      "  - Day chua phan tu chan trong a: [], so luong 0 phan tu.\n"
     ]
    }
   ],
   "source": [
    "# a và x phải được khởi tạo trước đó\n",
    "# Ví dụ:\n",
    "# a = np.arange(10)\n",
    "# x = np.arange(1, 11)\n",
    "\n",
    "# Khởi tạo a_la_chan\n",
    "a_la_chan = a % 2 == 0\n",
    "\n",
    "# Sau đó, sử dụng nó\n",
    "a_chan = a[a_la_chan]\n",
    "n_a_chan = len(a_chan)\n",
    "\n",
    "# Tương tự cho x\n",
    "x_la_chan = x % 2 == 0\n",
    "x_chan = x[x_la_chan]\n",
    "n_x_chan = len(x_chan)\n",
    "\n",
    "print(\"b. Cac phan tu chan trong day a, b: \")\n",
    "print(f\"+ Day a: {a}\")\n",
    "print(f\"  - Loc chan: {a_la_chan}\")\n",
    "print(f\"  - Day chua phan tu chan trong a: {a_chan}, so luong {n_a_chan} phan tu.\")\n",
    "print(f\"+ Day x: {x}\")\n",
    "print(f\"  - Loc chan: {x_la_chan}\")\n",
    "print(f\"  - Day chua phan tu chan trong a: {x_chan}, so luong {n_x_chan} phan tu.\")"
   ]
  },
  {
   "cell_type": "code",
   "execution_count": 12,
   "id": "1d441e53-26ad-45ff-a6d4-6abbb9c66f65",
   "metadata": {},
   "outputs": [
    {
     "name": "stdout",
     "output_type": "stream",
     "text": [
      "c.Tính hiệu các phần tử ở vị trí lẻ của mảng a và x: \n",
      "+ Vi tri le trong a va x: [1 3 5 7 9]\n",
      "+ Day so a: [0 1 2 3 4 5 6 7 8 9] va cac so o vi tri le: [1 3 5 7 9]\n",
      "+ Day so x: [ 2.73896304  0.99066818  1.61259146 ... -0.45434017  1.57933134\n",
      "  2.16128414] va cac so o vi tri le: [ 0.99066818  0.91747984 -0.32606167  0.00556783  2.07678172]\n",
      "+ Hieu cua a va x o vi tri le: [0.00933182 2.08252016 5.32606167 6.99443217 6.92321828]\n",
      "+ Khoang cach cac phan tu cua a va x o vi tri le:  11.38\n"
     ]
    }
   ],
   "source": [
    "v_le = np.arange(1, 10, 2)\n",
    "a_le = a[v_le]\n",
    "x_le = x[v_le]\n",
    "hieu_le = a_le - x_le\n",
    "kc_le = np.sqrt(np.sum((a_le - x_le)**2))\n",
    "\n",
    "print( \"c.Tính hiệu các phần tử ở vị trí lẻ của mảng a và x: \")\n",
    "print(f\"+ Vi tri le trong a va x: {v_le}\")\n",
    "print(f\"+ Day so a: {a} va cac so o vi tri le: {a_le}\")\n",
    "print(f\"+ Day so x: {x} va cac so o vi tri le: {x_le}\")\n",
    "print(f\"+ Hieu cua a va x o vi tri le: {hieu_le}\")\n",
    "print(f\"+ Khoang cach cac phan tu cua a va x o vi tri le: {kc_le: .2f}\")"
   ]
  },
  {
   "cell_type": "code",
   "execution_count": 8,
   "id": "92f5e91d-e213-4146-b873-0d2936c6990e",
   "metadata": {},
   "outputs": [
    {
     "name": "stdout",
     "output_type": "stream",
     "text": [
      "d. Tìm khoảng cách nhỏ nhất giữa tập a và x. Ví dụ: min({1, 3, 5}, {2, 10, 8}} = 1\n",
      "d. Tìm khoảng cách nhỏ nhất giữa tập a và x. Ví dụ: min({1, 3, 5}, {2, 10, 8}} = 1\n",
      "+ Day a: [0 1 2 3 4 5 6 7 8 9]\n",
      "+ Day x: [ 1  2  3  4  5  6  7  8  9 10]\n",
      "+ Khoang cach nho nhat: 0\n"
     ]
    }
   ],
   "source": [
    "print(\"d. Tìm khoảng cách nhỏ nhất giữa tập a và x. Ví dụ: min({1, 3, 5}, {2, 10, 8}} = 1\")\n",
    "\"\"\"\n",
    "Gợi ý: Áp dụng toán tử broatcasting\n",
    "[[1],                    [[1, 1, 1],        [[2, 10, 8],    =   [[-1, -9, -7],\n",
    " [3],   - [2, 10, 8] =    [3, 3, 3],   -     [2, 10, 8],         [ 1, -7, -5],  --> np.min(np.abs(...)) = 1\n",
    " [5]]                     [5, 5, 5]]         [2, 10, 8]]         [ 3, -5, -3]]\n",
    "\"\"\"\n",
    "a_reshaped = a[:, np.newaxis]\n",
    "diff_matrix = a_reshaped - x\n",
    "v_min = np.min(np.abs(diff_matrix))\n",
    "\n",
    "print(\"d. Tìm khoảng cách nhỏ nhất giữa tập a và x. Ví dụ: min({1, 3, 5}, {2, 10, 8}} = 1\")\n",
    "print(f\"+ Day a: {a}\")\n",
    "print(f\"+ Day x: {x}\")\n",
    "print(f\"+ Khoang cach nho nhat: {v_min}\")"
   ]
  },
  {
   "cell_type": "markdown",
   "id": "d18845b8-0d51-4666-ba1c-5ff836ef3d54",
   "metadata": {},
   "source": [
    "#### 4. Sinh ngẫu nhiên dãy số\n",
    "(a) Sinh ngẫu nhiên dãy số có 100 phần tử theo phân bố đều với giá trị trong đoạn [1, 10] và vẽ đồ thị tần số xuất hiện <br/> \n",
    "(b) Sinh ngẫu nhiên N diem (x, y) với y là hàm phân phối chuẩn $N(\\mu = 1, \\sigma^2 = 1.0)$: <br/>\n",
    " $$\n",
    " y = f\\left(x| \\mu, \\sigma\\right) = \\frac{1}{\\sigma\\sqrt{2\\pi}}exp\\left(-\\frac{\\left(x - \\mu\\right)^2}{2\\sigma^2}\\right)\n",
    " $$\n",
    " nơi mà $x \\in [\\mu - 5\\sigma, \\mu + 5\\sigma]$ <br/> \n",
    " (c) Sinh ngẫu nhiên dãy số có 100000 phần tử theo phân bố chuẩn $N(\\mu = 1, \\sigma^2 = 1.0)$ và vẽ đồ thị tần số xuất hiện <br/> <br/> "
   ]
  },
  {
   "cell_type": "code",
   "execution_count": 4,
   "id": "4d35cd9c-3163-486e-baef-63180ff2f5b6",
   "metadata": {},
   "outputs": [
    {
     "name": "stdout",
     "output_type": "stream",
     "text": [
      "4. Sinh ngẫu nhiên dãy số\n",
      "a. Sinh ngẫu nhiên theo phân bố đều\n",
      "+ Gia tri: [ 1  2  3  4  5  6  7  8  9 10]\n",
      "+ So lan xuat hien: [11 15  9  4 14 13 10  5 11  8]\n",
      "+ Do thi ham so xuat hien\n"
     ]
    },
    {
     "data": {
      "image/png": "[encoded data removed]",
      "text/plain": [
       "<Figure size 600x600 with 1 Axes>"
      ]
     },
     "metadata": {},
     "output_type": "display_data"
    }
   ],
   "source": [
    "import numpy as np\n",
    "import matplotlib.pyplot as plt\n",
    "\n",
    "print(\"4. Sinh ngẫu nhiên dãy số\")\n",
    "\n",
    "# a. Sinh ngẫu nhiên dãy số có 100 phần tử theo phân bố đều với giá trị trong đoạn [1, 10]\n",
    "# Sử dụng np.random.randint để sinh số nguyên ngẫu nhiên\n",
    "uniform_data = np.random.randint(1, 11, size=100)\n",
    "# Sử dụng np.unique để đếm tần số xuất hiện\n",
    "value, cnt = np.unique(uniform_data, return_counts=True)\n",
    "\n",
    "print(\"a. Sinh ngẫu nhiên theo phân bố đều\")\n",
    "print(f\"+ Gia tri: {value}\")\n",
    "print(f\"+ So lan xuat hien: {cnt}\")\n",
    "print(\"+ Do thi ham so xuat hien\")\n",
    "plt.figure(figsize=(6, 6))\n",
    "plt.bar(value, cnt)\n",
    "plt.xlim(0, 11)\n",
    "plt.ylim(0, np.max(cnt) + 10)\n",
    "plt.title(\"Phân bố đều\")\n",
    "plt.xlabel(\"Giá trị\")\n",
    "plt.ylabel(\"Tần số\")\n",
    "plt.savefig(\"4a.png\")\n",
    "plt.show()"
   ]
  },
  {
   "cell_type": "code",
   "execution_count": 9,
   "id": "55c99911-a213-4961-85b7-2ef09b775945",
   "metadata": {},
   "outputs": [
    {
     "name": "stdout",
     "output_type": "stream",
     "text": [
      "b. Sinh cặp (x, y) với y làm hàm phân phối chuẩn\n",
      "+ x: -4.0 <= min [-3.99] <= max [ 5.99] <= 6.0\n",
      "+ Ve ham so y(x)\n"
     ]
    },
    {
     "data": {
      "image/png": "[encoded data removed]",
      "text/plain": [
       "<Figure size 600x600 with 1 Axes>"
      ]
     },
     "metadata": {},
     "output_type": "display_data"
    }
   ],
   "source": [
    "mu = 1\n",
    "sigma = np.sqrt(1.0)\n",
    "# Khoảng giá trị của x\n",
    "x_min = mu - 5 * sigma\n",
    "x_max = mu + 5 * sigma\n",
    "# Sinh 1000 giá trị x ngẫu nhiên trong khoảng [x_min, x_max)\n",
    "x = (x_max - x_min) * np.random.rand(1000) + x_min\n",
    "# Tính giá trị y theo công thức hàm mật độ xác suất chuẩn\n",
    "y = (1 / (sigma * np.sqrt(2 * np.pi))) * np.exp(-((x - mu)**2) / (2 * sigma**2))\n",
    "\n",
    "print(\"b. Sinh cặp (x, y) với y làm hàm phân phối chuẩn\")\n",
    "print(f\"+ x: {x_min} <= min [{np.min(x): .2f}] <= max [{np.max(x): .2f}] <= {x_max}\")\n",
    "print(f\"+ Ve ham so y(x)\")\n",
    "plt.figure(figsize=(6,6))      # kich thuoc ban ve\n",
    "plt.scatter(x, y)              # ve cac diem (xi, yi)\n",
    "plt.savefig(\"4b.png\")          #  luu do thi\n",
    "plt.show()                     #  hien thi do thi"
   ]
  },
  {
   "cell_type": "code",
   "execution_count": 10,
   "id": "0b4cf743-6afa-47da-8d3e-61f84623c707",
   "metadata": {},
   "outputs": [
    {
     "name": "stdout",
     "output_type": "stream",
     "text": [
      "c. Sinh day so theo phan phoi chuan\n",
      "+ x: len = 100000, min [-3.1185883637245473], max [6.130138772869765]\n",
      "+ Mat so xac suat cua day so x\n"
     ]
    },
    {
     "data": {
      "image/png": "[encoded data removed]",
      "text/plain": [
       "<Figure size 600x600 with 1 Axes>"
      ]
     },
     "metadata": {},
     "output_type": "display_data"
    }
   ],
   "source": [
    "n = 100000\n",
    "# Sinh số ngẫu nhiên theo phân bố chuẩn N(mu, sigma^2)\n",
    "x = mu + np.random.randn(n) * sigma\n",
    "# Thống kê tần số xuất hiện bằng np.histogram\n",
    "# density=True để nhận mật độ xác suất, bins=300 để có độ phân giải cao\n",
    "cnt, bins = np.histogram(x, bins=300, density=True)\n",
    "# Lấy giá trị trung tâm của các bins\n",
    "val = (bins[1:] + bins[:-1]) / 2\n",
    "\n",
    "print( \"c. Sinh day so theo phan phoi chuan\")\n",
    "print(f\"+ x: len = {len(x)}, min [{np.min(x)}], max [{np.max(x)}]\")\n",
    "print(f\"+ Mat so xac suat cua day so x\")\n",
    "plt.figure(figsize=(6,6))      # kich thuoc ban ve\n",
    "plt.xlim(np.min(val), np.max(val))\n",
    "plt.scatter(val, cnt)\n",
    "plt.show()"
   ]
  },
  {
   "cell_type": "markdown",
   "id": "4f1a6dde-3e75-4dc7-8bab-40b7b9e17091",
   "metadata": {},
   "source": [
    "### Bài 2. Tính toán trên ma trận"
   ]
  },
  {
   "cell_type": "markdown",
   "id": "8ce5c9f7-de68-44cf-a1ce-950822c408d3",
   "metadata": {},
   "source": [
    "#### 1. Tạo ma trận a có M = 6 dòng, N = 4 cột"
   ]
  },
  {
   "cell_type": "code",
   "execution_count": 13,
   "id": "17b1f09d-11c7-4711-8b40-f67abd54323e",
   "metadata": {},
   "outputs": [
    {
     "name": "stdout",
     "output_type": "stream",
     "text": [
      "Ma trận a: \n",
      " [[185 126 189 189]\n",
      " [146 156 177 104]\n",
      " [142 123 135 137]\n",
      " [153 103 133 191]\n",
      " [125 139 181 107]\n",
      " [184 196 124 139]]\n"
     ]
    }
   ],
   "source": [
    "import numpy as np\n",
    "\n",
    "# Tạo ma trận a có M = 6 dòng, N = 4 cột\n",
    "# với các số nguyên ngẫu nhiên từ 100 đến 199 (không bao gồm 200)\n",
    "a = np.random.randint(100, 200, (6, 4))\n",
    "\n",
    "print(\"Ma trận a: \\n\", a)"
   ]
  },
  {
   "cell_type": "markdown",
   "id": "8bc353b9-1740-4e94-b779-eae046171142",
   "metadata": {},
   "source": [
    "#### 2. Các thao tác trên ma trận a\n",
    "(a) In ra ma trận chuyển vị <br/>\n",
    "(b) In ra phần tử ở vị trí dòng 2 cột 3 <br/>\n",
    "(c) Trích xuất dòng đầu, dòng cuối, dòng 2 <br/>\n",
    "(d) Trích xuất cột kế cuối, cột đầu <br/>\n",
    "(e) Đảo các giá trị trên từng cột <br/>\n",
    "(f) Tính tổng các dòng, trung bình các cột <br/>"
   ]
  },
  {
   "cell_type": "code",
   "execution_count": 14,
   "id": "5236b916-3dda-4444-8004-9a6ab8d80df4",
   "metadata": {},
   "outputs": [
    {
     "name": "stdout",
     "output_type": "stream",
     "text": [
      "Ma trận a: \n",
      " [[112 104 103 177]\n",
      " [172 147 166 128]\n",
      " [197 162 131 166]\n",
      " [121 154 129 101]\n",
      " [183 156 161 138]\n",
      " [140 176 194 141]]\n",
      "\n",
      "a. In ra ma trận chuyển vị: \n",
      "[[112 172 197 121 183 140]\n",
      " [104 147 162 154 156 176]\n",
      " [103 166 131 129 161 194]\n",
      " [177 128 166 101 138 141]]\n",
      "\n",
      "b. In ra phần tử ở vị trí dòng 2 cột 3: 166\n",
      "\n",
      "c. Trích xuất các dòng: \n",
      "   + Dòng đầu : [112 104 103 177]\n",
      "   + Dòng cuối: [140 176 194 141]\n",
      "   + Dòng hai : [172 147 166 128]\n",
      "\n",
      "d. Trích xuất các cột: \n",
      "   + Cột kế cuối: [103 166 131 129 161 194]\n",
      "   + Cột đầu: [112 172 197 121 183 140]\n",
      "\n",
      "e. Đảo các giá trị trên từng cột: \n",
      " [[140 176 194 141]\n",
      " [183 156 161 138]\n",
      " [121 154 129 101]\n",
      " [197 162 131 166]\n",
      " [172 147 166 128]\n",
      " [112 104 103 177]]\n",
      "\n",
      "f. Phép tính theo trục:\n",
      "   + Tổng dòng: [496 613 656 505 638 651]\n",
      "   + Trung bình cột: [154.16666667 149.83333333 147.33333333 141.83333333]\n"
     ]
    }
   ],
   "source": [
    "import numpy as np\n",
    "\n",
    "# Giả sử ma trận a đã được tạo từ bài trước\n",
    "a = np.random.randint(100, 200, (6, 4))\n",
    "\n",
    "print(\"Ma trận a: \\n\", a)\n",
    "\n",
    "# a. In ra ma trận chuyển vị\n",
    "a_t = a.T\n",
    "\n",
    "# b. In ra phần tử ở vị trí dòng 2 cột 3 (lưu ý: chỉ mục bắt đầu từ 0)\n",
    "v_23 = a[1, 2]\n",
    "\n",
    "# c. Trích xuất dòng đầu, dòng cuối, dòng 2\n",
    "d_0 = a[0]\n",
    "d_last = a[-1]\n",
    "d_2 = a[1]\n",
    "\n",
    "# d. Trích xuất cột kế cuối, cột đầu\n",
    "c_l1 = a[:, -2]\n",
    "c_0 = a[:, 0]\n",
    "\n",
    "# e. Đảo các giá trị trên từng cột\n",
    "dao_cot = a[::-1]\n",
    "\n",
    "# f. Tính tổng các dòng, trung bình các cột\n",
    "tong_dong = np.sum(a, axis=1) # axis=1: tính tổng trên các dòng (theo chiều ngang)\n",
    "tb_cot = np.mean(a, axis=0) # axis=0: tính trung bình trên các cột (theo chiều dọc)\n",
    "\n",
    "print(f\"\\na. In ra ma trận chuyển vị: \\n{a_t}\")\n",
    "print(f\"\\nb. In ra phần tử ở vị trí dòng 2 cột 3: {v_23}\")\n",
    "print(f\"\\nc. Trích xuất các dòng: \")\n",
    "print(f\"   + Dòng đầu : {d_0}\")\n",
    "print(f\"   + Dòng cuối: {d_last}\")\n",
    "print(f\"   + Dòng hai : {d_2}\")\n",
    "print(f\"\\nd. Trích xuất các cột: \")\n",
    "print(f\"   + Cột kế cuối: {c_l1}\")\n",
    "print(f\"   + Cột đầu: {c_0}\")\n",
    "print(f\"\\ne. Đảo các giá trị trên từng cột: \\n {dao_cot}\")\n",
    "print(f\"\\nf. Phép tính theo trục:\")\n",
    "print(f\"   + Tổng dòng: {tong_dong}\")\n",
    "print(f\"   + Trung bình cột: {tb_cot}\")"
   ]
  },
  {
   "cell_type": "markdown",
   "id": "bca46803-13a7-4324-b719-0bffd7110119",
   "metadata": {},
   "source": [
    "#### 3. Các toán tử trên hai ma trận\n",
    "(a) Tạo hai ma trận A và B có 4 dòng x 3 cột và X có 3 dòng x 4 cột <br/>\n",
    "(b) Tính tổng, hiệu, tích của từng phần tử trên hai ma trận A và B <br/>\n",
    "(c) Tính phép nhân ma trận Y = A x X"
   ]
  },
  {
   "cell_type": "code",
   "execution_count": 15,
   "id": "86d9c4ed-e86c-4baf-b51b-9dbd20e5c3cb",
   "metadata": {},
   "outputs": [
    {
     "name": "stdout",
     "output_type": "stream",
     "text": [
      "a. Tạo hai ma trận A và B có 4 dòng x 3 cột và X có 3 dòng x 4 cột\n",
      "+ Ma tran A: \n",
      "[[3 7 5]\n",
      " [5 4 7]\n",
      " [5 2 7]\n",
      " [2 1 5]]\n",
      "+ Ma tran B: \n",
      "[[6 7 4]\n",
      " [8 7 8]\n",
      " [1 9 6]\n",
      " [9 9 3]]\n",
      "+ Ma tran X: \n",
      "[[3 2 8 4]\n",
      " [9 6 6 1]\n",
      " [9 6 6 2]]\n",
      "\n",
      "b. Tính tổng, hiệu, tích của từng phần tử trên hai ma trận A và B\n",
      "A + B = \n",
      "[[ 9 14  9]\n",
      " [13 11 15]\n",
      " [ 6 11 13]\n",
      " [11 10  8]]\n",
      "A - B = \n",
      "[[-3  0  1]\n",
      " [-3 -3 -1]\n",
      " [ 4 -7  1]\n",
      " [-7 -8  2]]\n",
      "A . B = \n",
      "[[18 49 20]\n",
      " [40 28 56]\n",
      " [ 5 18 42]\n",
      " [18  9 15]]\n",
      "\n",
      "c. Tính phép nhân ma trận Y = A x X\n",
      "Y = A x X --> shape A ((4, 3)) x shape X ((3, 4)) = shape Y ((4, 4)) \n",
      "[[117  78  96  29]\n",
      " [114  76 106  38]\n",
      " [ 96  64  94  36]\n",
      " [ 60  40  52  19]]\n"
     ]
    }
   ],
   "source": [
    "import numpy as np\n",
    "\n",
    "# a. Tạo hai ma trận A và B có 4 dòng x 3 cột và X có 3 dòng x 4 cột\n",
    "A = np.random.randint(1, 10, (4, 3))\n",
    "B = np.random.randint(1, 10, (4, 3))\n",
    "X = np.random.randint(1, 10, (3, 4))\n",
    "\n",
    "print(\"a. Tạo hai ma trận A và B có 4 dòng x 3 cột và X có 3 dòng x 4 cột\")\n",
    "print(f\"+ Ma tran A: \\n{A}\")\n",
    "print(f\"+ Ma tran B: \\n{B}\")\n",
    "print(f\"+ Ma tran X: \\n{X}\")\n",
    "\n",
    "# b. Tính tổng, hiệu, tích của từng phần tử trên hai ma trận A và B\n",
    "# NumPy cho phép thực hiện các phép toán này một cách trực tiếp\n",
    "AB_add = A + B\n",
    "AB_sub = A - B\n",
    "AB_mul = A * B # Phép nhân từng phần tử (element-wise multiplication)\n",
    "\n",
    "print(\"\\nb. Tính tổng, hiệu, tích của từng phần tử trên hai ma trận A và B\")\n",
    "print(f\"A + B = \\n{AB_add}\")\n",
    "print(f\"A - B = \\n{AB_sub}\")\n",
    "print(f\"A . B = \\n{AB_mul}\")\n",
    "\n",
    "# c. Tính phép nhân ma trận Y = A x X\n",
    "# Dùng toán tử @ hoặc hàm np.dot()\n",
    "Y = A @ X\n",
    "# Hoặc: Y = np.dot(A, X)\n",
    "\n",
    "print(\"\\nc. Tính phép nhân ma trận Y = A x X\")\n",
    "print(f\"Y = A x X --> shape A ({A.shape}) x shape X ({X.shape}) = shape Y ({Y.shape}) \\n{Y}\")"
   ]
  },
  {
   "cell_type": "markdown",
   "id": "43602379-f77d-44ba-b2e3-23f85c6bcf5a",
   "metadata": {},
   "source": [
    "#### 4. Giải hệ phương trình tuyến tính\n",
    "Giải hệ phương trình tuyến tính sau:\n",
    "$$\n",
    "\\left\\{\\begin{matrix}\n",
    "        4x_1  + 3x_2 - 5x_3 = 2 \\\\ \n",
    "        -2x_1 - 4x_2 + 5x_3 = 5 \\\\ \n",
    "        8x_1 + 8x_2 = -3 \\\\ \n",
    "\\end{matrix}\\right.\n",
    "$$"
   ]
  },
  {
   "cell_type": "code",
   "execution_count": 16,
   "id": "53db2e93-fcbe-49f6-a4dd-482d22bcda54",
   "metadata": {},
   "outputs": [
    {
     "name": "stdout",
     "output_type": "stream",
     "text": [
      "Ma trận A: \n",
      " [[ 4  3 -5]\n",
      " [-2 -4  5]\n",
      " [ 8  8  0]]\n",
      "\n",
      "Vector y: [ 2  5 -3]\n",
      "Nghiệm x: [ 2.20833333 -2.58333333 -0.18333333]\n",
      "Kiểm tra: y_new = A @ x = [ 2.  5. -3.] ==> ||y_new - y||_2 =  0.00\n"
     ]
    }
   ],
   "source": [
    "import numpy as np\n",
    "\n",
    "# Tạo ma trận hệ số A và vector kết quả y\n",
    "A = np.array([[4, 3, -5],\n",
    "              [-2, -4, 5],\n",
    "              [8, 8, 0]])\n",
    "\n",
    "y = np.array([2, 5, -3])\n",
    "\n",
    "# Sử dụng np.linalg.solve để tìm nghiệm x\n",
    "x = np.linalg.solve(A, y)\n",
    "\n",
    "# Kiểm tra lại nghiệm bằng cách nhân ma trận A với nghiệm x vừa tìm được\n",
    "yy = np.dot(A, x)\n",
    "\n",
    "# Tính sai số (Norm L2) giữa vector kết quả gốc (y) và vector kết quả tính toán (yy)\n",
    "diff = np.linalg.norm(yy - y)\n",
    "\n",
    "print(\"Ma trận A: \\n\", A)\n",
    "print(f\"\\nVector y: {y}\")\n",
    "print(f\"Nghiệm x: {x}\")\n",
    "print(f\"Kiểm tra: y_new = A @ x = {yy} ==> ||y_new - y||_2 = {diff: .2f}\")"
   ]
  },
  {
   "cell_type": "markdown",
   "id": "526b7e20-beca-4087-9cab-02ccc0a8f856",
   "metadata": {},
   "source": [
    "## Bài tập áp dụng"
   ]
  },
  {
   "cell_type": "markdown",
   "id": "9ee067fb-2045-4d3e-b504-ff4a8c3dcf37",
   "metadata": {},
   "source": [
    "### Bài 3. Tính gần đúng số pi dùng phương pháp Monte Carlo\n",
    "\n",
    "Vẽ một đường tròn $C$ có bán kính $r$ nội tiếp một hình vuông $C$, và đặt ngẫu nhiên $N$ chấm lên hình vuông. Tỉ lệ các chấm nằm trong hình tròn trên tổng số chấm xấp xỉ bằng diện tích của hình tròn chia cho hình vuông như sau:\n",
    "$$\n",
    "\\frac{N_C}{N} \\approx  \\frac{\\mathbb{S}_C}{\\mathbb{S}_N}\n",
    "$$\n",
    "nơi mà $N_C$ là các chấm trong hình tròn, $N$ là tổng số chấm, $\\mathbb{S}_C$ và $\\mathbb{S}_N$ lần lượt là diện tích của hình tròn và hình vuông.\n",
    "$$ \\mathbb{S}_C = \\pi * r^2 $$\n",
    "$$ \\mathbb{S}_N = (2*r)^2 = 4r^2 $$\n",
    "Do đó, công thức trên trở thành:\n",
    "$$\n",
    "\\frac{N_C}{N} \\approx \\frac{\\pi * r^2}{4r^2} = \\frac{\\pi}{4}\n",
    "$$\n",
    "Suy ra, ta có giá trị số $\\pi$ được tính như sau:\n",
    "$$\n",
    "\\pi \\approx \\frac{4N_C}{N}\n",
    "$$\n",
    "\n",
    "Các bạn hãy lập trình tính sấp xỉ số $\\pi$ dùng phương pháp Monte Carlo. Cho biết các sai số với $N = 100$, $N = 10000$, và $N = 1000000$. Vẽ đồ thị minh họa cho chương trình.\n",
    "\n",
    "**Hướng dẫn**: Viết chương trình phát sinh $N$ điểm $(x_i, y_i)$ với $x_i, y_i \\in [-1, -1]$. $(x_i, y_i)$ thuộc hình tròn tâm $(0, 0)$ bán kính 1 nội tiếp hình vuông có tâm tại $(0, 0)$ độ dài cạnh 2 khi và chỉ khi $x_i^2 + y_i^2 <= 1$."
   ]
  },
  {
   "cell_type": "code",
   "execution_count": 14,
   "id": "793640f7-4ba5-4d27-9d52-a65f4c25a5b0",
   "metadata": {},
   "outputs": [
    {
     "data": {
      "image/png": "[encoded data removed]",
      "text/plain": [
       "<Figure size 432x432 with 1 Axes>"
      ]
     },
     "metadata": {
      "needs_background": "light"
     },
     "output_type": "display_data"
    }
   ],
   "source": [
    "import matplotlib.pyplot as plt # khai báo thư viện vẽ pyplot\n",
    "import math\n",
    "\n",
    "circle = plt.Circle((0, 0), 1, color='g') # tạo đối tượng vòng tròn\n",
    "\n",
    "fig, ax = plt.subplots(figsize=(6, 6)) # lấy figure và vùng vẽ\n",
    "\n",
    "plt.plot(0, 0, 'o', color=(0.9, 0.9, 1.0), alpha=0.8) # vẽ điểm tại tâm (0,0)\n",
    "ax.add_patch(circle) # thêm vòng tròn vào vùng vẽ\n",
    "\n",
    "x = 0.75; y = math.sqrt(1 - (x ** 2)) # (x = 0.75, y = căn bậc 2 của 1 - x^2)\n",
    "plt.arrow(0, 0, x, y)\n",
    "\n",
    "plt.xlim(-1, 1) # giới hạn trục x\n",
    "plt.ylim(-1, 1) # giới hạn trục y\n",
    "\n",
    "plt.savefig('pi.png') # lưu đồ thị xuống tập tin\n",
    "plt.show()            # hiển thị đồ thị"
   ]
  },
  {
   "cell_type": "code",
   "execution_count": 18,
   "id": "bef335d2-9e51-4fa5-8843-aa1d67a607f0",
   "metadata": {},
   "outputs": [],
   "source": [
    "import numpy as np\n",
    "\n",
    "def calc_pi_monte_carlo(n):\n",
    "    \"\"\"\n",
    "    Estimates the value of pi using the Monte Carlo method.\n",
    "\n",
    "    Args:\n",
    "        n (int): The number of random points to generate.\n",
    "\n",
    "    Returns:\n",
    "        float: The estimated value of pi.\n",
    "    \"\"\"\n",
    "    # Generate n random points (x, y) within a unit square.\n",
    "    # The unit square has corners at (0,0), (1,0), (0,1), and (1,1).\n",
    "    random_points = np.random.rand(n, 2)\n",
    "    \n",
    "    # Extract the x and y coordinates.\n",
    "    x = random_points[:, 0]\n",
    "    y = random_points[:, 1]\n",
    "    \n",
    "    # Count the number of points that fall inside the unit circle.\n",
    "    # A point (x, y) is inside the circle if x^2 + y^2 < 1.\n",
    "    points_in_circle = np.sum(x**2 + y**2 < 1)\n",
    "    \n",
    "    # Estimate pi based on the ratio of areas.\n",
    "    # pi / 4 = points_in_circle / n\n",
    "    pi = 4 * points_in_circle / n\n",
    "    \n",
    "    return pi\n",
    "# calc_pi_monte_carlo"
   ]
  },
  {
   "cell_type": "code",
   "execution_count": 19,
   "id": "91071758-5957-497b-a5d1-2f2d17df6fae",
   "metadata": {},
   "outputs": [
    {
     "name": "stdout",
     "output_type": "stream",
     "text": [
      "epsilon(n=100):  -0.14159265358979312\n",
      "epsilon(n=100):  -0.061592653589793045\n",
      "epsilon(n=10000):  0.012807346410206755\n",
      "epsilon(n=10000):  -0.009192653589793043\n",
      "epsilon(n=1000000):  -0.0008726535897931598\n",
      "epsilon(n=1000000):  -0.0013806535897931127\n"
     ]
    }
   ],
   "source": [
    "import math\n",
    "\n",
    "print(\"epsilon(n=100): \", calc_pi_monte_carlo(n = 100) - math.pi)\n",
    "print(\"epsilon(n=100): \", calc_pi_monte_carlo(n = 100) - math.pi)\n",
    "print(\"epsilon(n=10000): \", calc_pi_monte_carlo(n = 10000) - math.pi)\n",
    "print(\"epsilon(n=10000): \", calc_pi_monte_carlo(n = 10000) - math.pi)\n",
    "print(\"epsilon(n=1000000): \", calc_pi_monte_carlo(n = 1000000) - math.pi)\n",
    "print(\"epsilon(n=1000000): \", calc_pi_monte_carlo(n = 1000000) - math.pi)"
   ]
  },
  {
   "cell_type": "code",
   "execution_count": null,
   "id": "b4273cb7-b084-41e8-8d4c-e296a9b0ec55",
   "metadata": {},
   "outputs": [],
   "source": []
  }
 ],
 "metadata": {
  "kernelspec": {
   "display_name": "Python 3 (ipykernel)",
   "language": "python",
   "name": "python3"
  },
  "language_info": {
   "codemirror_mode": {
    "name": "ipython",
    "version": 3
   },
   "file_extension": ".py",
   "mimetype": "text/x-python",
   "name": "python",
   "nbconvert_exporter": "python",
   "pygments_lexer": "ipython3",
   "version": "3.13.5"
  }
 },
 "nbformat": 4,
 "nbformat_minor": 5
}
